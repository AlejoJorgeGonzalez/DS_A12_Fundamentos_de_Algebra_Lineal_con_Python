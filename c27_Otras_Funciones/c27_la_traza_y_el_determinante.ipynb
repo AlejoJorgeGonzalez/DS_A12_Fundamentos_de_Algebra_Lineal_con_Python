{
 "cells": [
  {
   "cell_type": "markdown",
   "source": [
    "# EL DETERMINANTE Y LA TRAZA"
   ],
   "metadata": {}
  },
  {
   "cell_type": "code",
   "execution_count": 1,
   "source": [
    "import numpy as np"
   ],
   "outputs": [],
   "metadata": {}
  },
  {
   "cell_type": "code",
   "execution_count": 2,
   "source": [
    "# Se crea una matriz\n",
    "matriz = np.array([[1, 2, 3],\n",
    "                   [4, 5, 7],\n",
    "                   [7, 8, 9]])\n",
    "print('matriz:\\n', matriz)"
   ],
   "outputs": [
    {
     "output_type": "stream",
     "name": "stdout",
     "text": [
      "matriz:\n",
      " [[1 2 3]\n",
      " [4 5 7]\n",
      " [7 8 9]]\n"
     ]
    }
   ],
   "metadata": {}
  },
  {
   "cell_type": "code",
   "execution_count": 4,
   "source": [
    "# La funcion trece crea la traza de una matriz\n",
    "traza = np.trace(matriz)\n",
    "print('traza:\\n',traza)"
   ],
   "outputs": [
    {
     "output_type": "stream",
     "name": "stdout",
     "text": [
      "traza:\n",
      " 15\n"
     ]
    }
   ],
   "metadata": {}
  },
  {
   "cell_type": "markdown",
   "source": [
    "La traza es la suma de los elementos de la diagonal, no importa como cambia los valores de la matriz la traza se mantiene igual, es decir.\n",
    "\n",
    "$$\n",
    "traza(ABC)=traza(CAB)=traza(BCA)\n",
    "$$\n",
    "\n",
    "Si la traza es negativa, esta da un espejo del espacio que se esta manejando, por ejemplo:"
   ],
   "metadata": {}
  },
  {
   "cell_type": "code",
   "execution_count": 5,
   "source": [
    "%matplotlib inline\n",
    "\n",
    "import matplotlib.pyplot as plt"
   ],
   "outputs": [],
   "metadata": {}
  },
  {
   "cell_type": "code",
   "execution_count": 6,
   "source": [
    "%run '..//funciones_auxiliares/c16_graficarVectores.ipynb'"
   ],
   "outputs": [],
   "metadata": {}
  },
  {
   "cell_type": "code",
   "execution_count": 7,
   "source": [
    "# Se define los vectores a utilizar\n",
    "v1 = np.array([0, 1])\n",
    "v2 = np.array([1, 0])\n",
    "\n",
    "graficarVectores([v1,v2], ['blue','red'])\n",
    "plt.xlim(-0.25, 2)\n",
    "plt.ylim(-0.25, 2)\n",
    "plt.show()"
   ],
   "outputs": [
    {
     "output_type": "display_data",
     "data": {
      "image/png": "[encoded data removed]",
      "text/plain": [
       "<Figure size 432x288 with 1 Axes>"
      ]
     },
     "metadata": {
      "needs_background": "light"
     }
    }
   ],
   "metadata": {}
  },
  {
   "cell_type": "markdown",
   "source": [
    "Se tiene los dos vectores, ahora se aplica una matriz para transformar los vectores."
   ],
   "metadata": {}
  },
  {
   "cell_type": "code",
   "execution_count": 10,
   "source": [
    "A = np.array([[2, 0], [0, 2]])\n",
    "print('A:\\n', A)"
   ],
   "outputs": [
    {
     "output_type": "stream",
     "name": "stdout",
     "text": [
      "A:\n",
      " [[2 0]\n",
      " [0 2]]\n"
     ]
    }
   ],
   "metadata": {}
  },
  {
   "cell_type": "markdown",
   "source": [
    "Esta matriz va a amplificar los vectores que se tiene, por lo tanto el unico cambio que realiza es la amplificación de los vectores, es decir"
   ],
   "metadata": {}
  },
  {
   "cell_type": "code",
   "execution_count": 12,
   "source": [
    "v1_transformado = A.dot(v1)\n",
    "v2_transformado = A.dot(v2)\n",
    "\n",
    "graficarVectores([v1_transformado,v2_transformado], ['orange','green'])\n",
    "plt.xlim(-0.25, 3)\n",
    "plt.ylim(-0.25, 3)\n",
    "plt.show()"
   ],
   "outputs": [
    {
     "output_type": "display_data",
     "data": {
      "image/png": "[encoded data removed]",
      "text/plain": [
       "<Figure size 432x288 with 1 Axes>"
      ]
     },
     "metadata": {
      "needs_background": "light"
     }
    }
   ],
   "metadata": {}
  },
  {
   "cell_type": "markdown",
   "source": [
    "Efectivamente los vectores se amplificaron, en la misma medida que la diagonal para cada uno de los ejes. Se paso de dos vectores que formaban un área de 1, a otro con una área de 4 debido a que sus vectores son de tamaño 2. Ahora se halla el determinante."
   ],
   "metadata": {}
  },
  {
   "cell_type": "code",
   "execution_count": 13,
   "source": [
    "det_A = np.linalg.det(A)\n",
    "print('determinante A:\\n', det_A)"
   ],
   "outputs": [
    {
     "output_type": "stream",
     "name": "stdout",
     "text": [
      "determinante A:\n",
      " 4.0\n"
     ]
    }
   ],
   "metadata": {}
  },
  {
   "cell_type": "markdown",
   "source": [
    "El determinante muestra en cuanto crece el area entre dos vectores, que para este caso en 4."
   ],
   "metadata": {}
  },
  {
   "cell_type": "code",
   "execution_count": 14,
   "source": [
    "area_transformada = abs((v1_transformado[0] - v2_transformado[0]))*abs((v1_transformado[1] - v2_transformado[1]))\n",
    "print('area_transformada:\\n',area_transformada)"
   ],
   "outputs": [
    {
     "output_type": "stream",
     "name": "stdout",
     "text": [
      "area_transformada:\n",
      " 4\n"
     ]
    }
   ],
   "metadata": {}
  },
  {
   "cell_type": "markdown",
   "source": [
    "Se obtiene el mismo valor obtenido en el determinante.\n",
    "\n",
    "Ahora se halla el calcula para una matriz con un determinante negativo."
   ],
   "metadata": {}
  },
  {
   "cell_type": "code",
   "execution_count": 15,
   "source": [
    "# Nueva matriz\n",
    "B = A * [-1, 1]\n",
    "print('B:\\n', B)"
   ],
   "outputs": [
    {
     "output_type": "stream",
     "name": "stdout",
     "text": [
      "B:\n",
      " [[-2  0]\n",
      " [ 0  2]]\n"
     ]
    }
   ],
   "metadata": {}
  },
  {
   "cell_type": "code",
   "execution_count": 17,
   "source": [
    "# Se halla el determinante de B\n",
    "det_B = np.linalg.det(B)\n",
    "print('det_B:\\n', det_B)\n",
    "\n",
    "# Se crean los vectores\n",
    "v1 = np.array([0,1])\n",
    "v2 = np.array([1,0])\n",
    "\n",
    "#Vectores transfomados por B\n",
    "v1_transformado = B.dot(v1)\n",
    "v2_transformado = B.dot(v2)\n",
    "\n",
    "# Se grafican los vectores\n",
    "graficarVectores([v1_transformado, v2_transformado, v1, v2], \n",
    "                 ['blue', 'red', 'orange', 'green'])\n",
    "plt.xlim(-3, 1.5)\n",
    "plt.ylim(-0.5, 2.5)\n",
    "plt.show()"
   ],
   "outputs": [
    {
     "output_type": "stream",
     "name": "stdout",
     "text": [
      "det_B:\n",
      " -4.0\n"
     ]
    },
    {
     "output_type": "display_data",
     "data": {
      "image/png": "[encoded data removed]",
      "text/plain": [
       "<Figure size 432x288 with 1 Axes>"
      ]
     },
     "metadata": {
      "needs_background": "light"
     }
    }
   ],
   "metadata": {}
  },
  {
   "cell_type": "markdown",
   "source": [
    "El vector v1 que es el naranja se transformo en el vector de color azul, en este caso el vector no realizo ninguna rotación. En el caso de v2 que es el vector de color verde, el vector transformado que es el de color rojo apunta en dirección contraria. Por tanto la matriz B amplifico todos los vectores, pero adicional a esto cambio el sentido de uno de los vectores. La información del determinante es muy importantem pero no nos dice toda la información de lo que esta ocurriendo en el espacio."
   ],
   "metadata": {}
  }
 ],
 "metadata": {
  "orig_nbformat": 4,
  "language_info": {
   "name": "python",
   "version": "3.8.10",
   "mimetype": "text/x-python",
   "codemirror_mode": {
    "name": "ipython",
    "version": 3
   },
   "pygments_lexer": "ipython3",
   "nbconvert_exporter": "python",
   "file_extension": ".py"
  },
  "kernelspec": {
   "name": "python3",
   "display_name": "Python 3.8.10 64-bit ('venv': venv)"
  },
  "interpreter": {
   "hash": "4f20b4b42551f24f9c75692598c37c28bcfd52bab95c05c72a4a47e4107bbc7d"
  }
 },
 "nbformat": 4,
 "nbformat_minor": 2
}