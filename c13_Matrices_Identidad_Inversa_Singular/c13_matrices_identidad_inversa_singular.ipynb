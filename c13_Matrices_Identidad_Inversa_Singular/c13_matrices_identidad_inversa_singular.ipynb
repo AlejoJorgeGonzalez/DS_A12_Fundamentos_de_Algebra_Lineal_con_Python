{
 "cells": [
  {
   "cell_type": "markdown",
   "source": [
    "# TIPOS ESPECIALES DE MATRICES: IDENTIDAD, INVERSA, SINGULARES"
   ],
   "metadata": {}
  },
  {
   "cell_type": "code",
   "execution_count": 1,
   "source": [
    "# Se importa la librerías necesarias\n",
    "import numpy as np"
   ],
   "outputs": [],
   "metadata": {}
  },
  {
   "cell_type": "code",
   "execution_count": 2,
   "source": [
    "# El método np.eye crea una matriz identidad, se le ingresa como \n",
    "# parametro el tamaño de la matriz cuadrada\n",
    "identidad = np.eye(4)\n",
    "print('Identidad:\\n', identidad)"
   ],
   "outputs": [
    {
     "output_type": "stream",
     "name": "stdout",
     "text": [
      "Identidad:\n",
      " [[1. 0. 0. 0.]\n",
      " [0. 1. 0. 0.]\n",
      " [0. 0. 1. 0.]\n",
      " [0. 0. 0. 1.]]\n"
     ]
    }
   ],
   "metadata": {}
  },
  {
   "cell_type": "markdown",
   "source": [
    "La matriz identidad, es una matriz cuadrada en la cual en su diagonal esta conformada por 1 y el resto por 0. Es de anotar que todos los números son de tipo float, el cuál se puede ver por el punto que se coloca al lado del número."
   ],
   "metadata": {}
  },
  {
   "cell_type": "code",
   "execution_count": 3,
   "source": [
    "# Se define un vector con 4 elementos\n",
    "vector = np.array([[2], [3], [5], [7]])\n",
    "print('vector:\\n', vector)\n",
    "print('identidad.vector:\\n', identidad.dot(vector))"
   ],
   "outputs": [
    {
     "output_type": "stream",
     "name": "stdout",
     "text": [
      "vector:\n",
      " [[2]\n",
      " [3]\n",
      " [5]\n",
      " [7]]\n",
      "identidad.vector:\n",
      " [[2.]\n",
      " [3.]\n",
      " [5.]\n",
      " [7.]]\n"
     ]
    }
   ],
   "metadata": {}
  },
  {
   "cell_type": "markdown",
   "source": [
    "Al realizar el producto interno entre la identidad y el vector, da como resultado el mismo vector, por tanto la matriz identidad es el elemento neutro de las matrices, es como por ejemplo el número 1 para los escalares.\n",
    "\n",
    "Una operación bastante conocida es la de transformación lineal, que es aplicar a un vector el producto interno con una matriz, con el fin de obtener un nuevo vector, en pocas palabras es multiplicar. Por ejemplo, se tiene un vector (1, 1), el cuál se puede transformar como:\n",
    "\n",
    "$$\n",
    "\\begin{bmatrix}\n",
    "2 & 3\\\\ \n",
    "4 & 5\n",
    "\\end{bmatrix}\\cdot \\begin{bmatrix}\n",
    "1\\\\1 \n",
    "\\end{bmatrix}=\\begin{bmatrix}\n",
    "2+3\\\\ 4+5\n",
    "\\end{bmatrix}\n",
    "$$\n",
    "\n",
    "Otra matriz que es muy útil es la inversa A^-1, la cuál al multiplicarla por A da la matriz identidad\n",
    "\n",
    "$$\n",
    "A\\cdot A^{-1}=Identidad\n",
    "$$\n"
   ],
   "metadata": {}
  },
  {
   "cell_type": "code",
   "execution_count": 4,
   "source": [
    "# Se crea una matriz a la cual se quiere calcular al inversa\n",
    "A = np.array([[1,0,1], [0,1,1], [-1,1,1]])\n",
    "print('A:\\n', A)\n",
    "# La inversa se calcula con la función de numpy linalg.inv\n",
    "inversa_A = np.linalg.inv(A)\n",
    "print('A^-1:\\n', inversa_A)"
   ],
   "outputs": [
    {
     "output_type": "stream",
     "name": "stdout",
     "text": [
      "A:\n",
      " [[ 1  0  1]\n",
      " [ 0  1  1]\n",
      " [-1  1  1]]\n",
      "A^-1:\n",
      " [[ 0.  1. -1.]\n",
      " [-1.  2. -1.]\n",
      " [ 1. -1.  1.]]\n"
     ]
    }
   ],
   "metadata": {}
  },
  {
   "cell_type": "markdown",
   "source": [
    "La matriz inversa de A es otra matriz con las mismas dimensiones que la matriz A, ahora se prueba si el producto interno de estos dos da la matriz identidad."
   ],
   "metadata": {}
  },
  {
   "cell_type": "code",
   "execution_count": 5,
   "source": [
    "print('A.A^-1:\\n', A.dot(inversa_A))"
   ],
   "outputs": [
    {
     "output_type": "stream",
     "name": "stdout",
     "text": [
      "A.A^-1:\n",
      " [[1. 0. 0.]\n",
      " [0. 1. 0.]\n",
      " [0. 0. 1.]]\n"
     ]
    }
   ],
   "metadata": {}
  },
  {
   "cell_type": "markdown",
   "source": [
    "Efectivamente al realizar el producto interno de A con su inversa, el resultado es la matriz identidad. \n",
    "\n",
    "Sin embargo, no todas la matrices tienen la inversa, a este tipo de matrices se les conoce como matrices singulares, por ejemplo la siguiente matriz:"
   ],
   "metadata": {}
  },
  {
   "cell_type": "code",
   "execution_count": 7,
   "source": [
    "singular = np.array([[1,1], [1,1]])\n",
    "print('singular:\\n', singular)"
   ],
   "outputs": [
    {
     "output_type": "stream",
     "name": "stdout",
     "text": [
      "singular:\n",
      " [[1 1]\n",
      " [1 1]]\n"
     ]
    }
   ],
   "metadata": {}
  },
  {
   "cell_type": "code",
   "execution_count": 8,
   "source": [
    "# Hallando su inversa\n",
    "print(np.linalg.inv(singular))"
   ],
   "outputs": [
    {
     "output_type": "error",
     "ename": "LinAlgError",
     "evalue": "Singular matrix",
     "traceback": [
      "\u001b[0;31m---------------------------------------------------------------------------\u001b[0m",
      "\u001b[0;31mLinAlgError\u001b[0m                               Traceback (most recent call last)",
      "\u001b[0;32m/tmp/ipykernel_382/1778728494.py\u001b[0m in \u001b[0;36m<module>\u001b[0;34m\u001b[0m\n\u001b[1;32m      1\u001b[0m \u001b[0;31m# Hallando su inversa\u001b[0m\u001b[0;34m\u001b[0m\u001b[0;34m\u001b[0m\u001b[0;34m\u001b[0m\u001b[0m\n\u001b[0;32m----> 2\u001b[0;31m \u001b[0mprint\u001b[0m\u001b[0;34m(\u001b[0m\u001b[0mnp\u001b[0m\u001b[0;34m.\u001b[0m\u001b[0mlinalg\u001b[0m\u001b[0;34m.\u001b[0m\u001b[0minv\u001b[0m\u001b[0;34m(\u001b[0m\u001b[0msingular\u001b[0m\u001b[0;34m)\u001b[0m\u001b[0;34m)\u001b[0m\u001b[0;34m\u001b[0m\u001b[0;34m\u001b[0m\u001b[0m\n\u001b[0m",
      "\u001b[0;32m<__array_function__ internals>\u001b[0m in \u001b[0;36minv\u001b[0;34m(*args, **kwargs)\u001b[0m\n",
      "\u001b[0;32m~/cienciadatos/A12_Fundamentos_de_Algebra_Lineal_con_Python/venv/lib/python3.8/site-packages/numpy/linalg/linalg.py\u001b[0m in \u001b[0;36minv\u001b[0;34m(a)\u001b[0m\n\u001b[1;32m    543\u001b[0m     \u001b[0msignature\u001b[0m \u001b[0;34m=\u001b[0m \u001b[0;34m'D->D'\u001b[0m \u001b[0;32mif\u001b[0m \u001b[0misComplexType\u001b[0m\u001b[0;34m(\u001b[0m\u001b[0mt\u001b[0m\u001b[0;34m)\u001b[0m \u001b[0;32melse\u001b[0m \u001b[0;34m'd->d'\u001b[0m\u001b[0;34m\u001b[0m\u001b[0;34m\u001b[0m\u001b[0m\n\u001b[1;32m    544\u001b[0m     \u001b[0mextobj\u001b[0m \u001b[0;34m=\u001b[0m \u001b[0mget_linalg_error_extobj\u001b[0m\u001b[0;34m(\u001b[0m\u001b[0m_raise_linalgerror_singular\u001b[0m\u001b[0;34m)\u001b[0m\u001b[0;34m\u001b[0m\u001b[0;34m\u001b[0m\u001b[0m\n\u001b[0;32m--> 545\u001b[0;31m     \u001b[0mainv\u001b[0m \u001b[0;34m=\u001b[0m \u001b[0m_umath_linalg\u001b[0m\u001b[0;34m.\u001b[0m\u001b[0minv\u001b[0m\u001b[0;34m(\u001b[0m\u001b[0ma\u001b[0m\u001b[0;34m,\u001b[0m \u001b[0msignature\u001b[0m\u001b[0;34m=\u001b[0m\u001b[0msignature\u001b[0m\u001b[0;34m,\u001b[0m \u001b[0mextobj\u001b[0m\u001b[0;34m=\u001b[0m\u001b[0mextobj\u001b[0m\u001b[0;34m)\u001b[0m\u001b[0;34m\u001b[0m\u001b[0;34m\u001b[0m\u001b[0m\n\u001b[0m\u001b[1;32m    546\u001b[0m     \u001b[0;32mreturn\u001b[0m \u001b[0mwrap\u001b[0m\u001b[0;34m(\u001b[0m\u001b[0mainv\u001b[0m\u001b[0;34m.\u001b[0m\u001b[0mastype\u001b[0m\u001b[0;34m(\u001b[0m\u001b[0mresult_t\u001b[0m\u001b[0;34m,\u001b[0m \u001b[0mcopy\u001b[0m\u001b[0;34m=\u001b[0m\u001b[0;32mFalse\u001b[0m\u001b[0;34m)\u001b[0m\u001b[0;34m)\u001b[0m\u001b[0;34m\u001b[0m\u001b[0;34m\u001b[0m\u001b[0m\n\u001b[1;32m    547\u001b[0m \u001b[0;34m\u001b[0m\u001b[0m\n",
      "\u001b[0;32m~/cienciadatos/A12_Fundamentos_de_Algebra_Lineal_con_Python/venv/lib/python3.8/site-packages/numpy/linalg/linalg.py\u001b[0m in \u001b[0;36m_raise_linalgerror_singular\u001b[0;34m(err, flag)\u001b[0m\n\u001b[1;32m     86\u001b[0m \u001b[0;34m\u001b[0m\u001b[0m\n\u001b[1;32m     87\u001b[0m \u001b[0;32mdef\u001b[0m \u001b[0m_raise_linalgerror_singular\u001b[0m\u001b[0;34m(\u001b[0m\u001b[0merr\u001b[0m\u001b[0;34m,\u001b[0m \u001b[0mflag\u001b[0m\u001b[0;34m)\u001b[0m\u001b[0;34m:\u001b[0m\u001b[0;34m\u001b[0m\u001b[0;34m\u001b[0m\u001b[0m\n\u001b[0;32m---> 88\u001b[0;31m     \u001b[0;32mraise\u001b[0m \u001b[0mLinAlgError\u001b[0m\u001b[0;34m(\u001b[0m\u001b[0;34m\"Singular matrix\"\u001b[0m\u001b[0;34m)\u001b[0m\u001b[0;34m\u001b[0m\u001b[0;34m\u001b[0m\u001b[0m\n\u001b[0m\u001b[1;32m     89\u001b[0m \u001b[0;34m\u001b[0m\u001b[0m\n\u001b[1;32m     90\u001b[0m \u001b[0;32mdef\u001b[0m \u001b[0m_raise_linalgerror_nonposdef\u001b[0m\u001b[0;34m(\u001b[0m\u001b[0merr\u001b[0m\u001b[0;34m,\u001b[0m \u001b[0mflag\u001b[0m\u001b[0;34m)\u001b[0m\u001b[0;34m:\u001b[0m\u001b[0;34m\u001b[0m\u001b[0;34m\u001b[0m\u001b[0m\n",
      "\u001b[0;31mLinAlgError\u001b[0m: Singular matrix"
     ]
    }
   ],
   "metadata": {}
  },
  {
   "cell_type": "markdown",
   "source": [
    "Devuelve el error, en este caso arroja un error de 'Singular matrix'. Además, las matrices inversas solo pueden calcularse en matrices cuadradas. El tener matrices inversas permite realizar operaciones como por ejemplo para el caso de ecuaciones lineales, ya que:\n",
    "\n",
    "$$\n",
    "A\\cdot x=b\\newline\n",
    "x=b\\cdot A^{-1} \n",
    "$$\n",
    "\n",
    "Por tanto la inversa ayuda para encontrar el resultado de un sistema de ecuaciones lineales"
   ],
   "metadata": {}
  },
  {
   "cell_type": "markdown",
   "source": [],
   "metadata": {}
  }
 ],
 "metadata": {
  "orig_nbformat": 4,
  "language_info": {
   "name": "python",
   "version": "3.8.10",
   "mimetype": "text/x-python",
   "codemirror_mode": {
    "name": "ipython",
    "version": 3
   },
   "pygments_lexer": "ipython3",
   "nbconvert_exporter": "python",
   "file_extension": ".py"
  },
  "kernelspec": {
   "name": "python3",
   "display_name": "Python 3.8.10 64-bit ('venv': venv)"
  },
  "interpreter": {
   "hash": "4f20b4b42551f24f9c75692598c37c28bcfd52bab95c05c72a4a47e4107bbc7d"
  }
 },
 "nbformat": 4,
 "nbformat_minor": 2
}