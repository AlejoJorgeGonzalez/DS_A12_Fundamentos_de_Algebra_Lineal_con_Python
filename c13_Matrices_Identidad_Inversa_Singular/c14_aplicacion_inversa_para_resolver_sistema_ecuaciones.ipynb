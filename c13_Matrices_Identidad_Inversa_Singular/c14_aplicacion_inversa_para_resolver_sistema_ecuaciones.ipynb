{
 "cells": [
  {
   "cell_type": "markdown",
   "source": [
    "# APLICACIÓN DE LA INVERSA DE UNA MATRIZ PARA RESOLVER UN SISTEMA DE ECUACIONES LINEALES"
   ],
   "metadata": {}
  },
  {
   "cell_type": "code",
   "execution_count": 2,
   "source": [
    "# Se importa las librerías necesarias\n",
    "import numpy as np\n",
    "# Se agrega esta línea para colocar como 0 todos aquellos valores que\n",
    "# son muy cercanos a 0\n",
    "np.set_printoptions(suppress=True)"
   ],
   "outputs": [],
   "metadata": {}
  },
  {
   "cell_type": "markdown",
   "source": [
    "En una clase anterior se tenía un sistema de ecuaciones lineales como:\n",
    "\n",
    "$$\n",
    "3x+y=1\\newline\n",
    "2x+y=1\n",
    "$$\n",
    "\n",
    "El cual en forma matricial se representa como:\n",
    "\n",
    "$$\n",
    "A\\cdot x=b\n",
    "$$\n",
    "$$\n",
    "\\begin{bmatrix}\n",
    "3 & 1\\\\ 2 & 1\n",
    "\\end{bmatrix}\n",
    "\\begin{bmatrix}\n",
    "x \\\\ y \n",
    "\\end{bmatrix}=\n",
    "\\begin{bmatrix}\n",
    "1\\\\1 \n",
    "\\end{bmatrix}\n",
    "$$"
   ],
   "metadata": {}
  },
  {
   "cell_type": "code",
   "execution_count": 6,
   "source": [
    "# Se crea la matriz\n",
    "A = np.array([[3,1], [2,1]])\n",
    "print('A:\\n', A)\n",
    "b = np.array([[1], [1]])\n",
    "print('b:\\n', b)"
   ],
   "outputs": [
    {
     "output_type": "stream",
     "name": "stdout",
     "text": [
      "A:\n",
      " [[3 1]\n",
      " [2 1]]\n",
      "b:\n",
      " [[1]\n",
      " [1]]\n"
     ]
    }
   ],
   "metadata": {}
  },
  {
   "cell_type": "markdown",
   "source": [
    "Se halla la inversa de A con la función linalg.inv"
   ],
   "metadata": {}
  },
  {
   "cell_type": "code",
   "execution_count": 7,
   "source": [
    "inversa_A = np.linalg.inv(A)\n",
    "print('inversa_A:\\n', inversa_A)"
   ],
   "outputs": [
    {
     "output_type": "stream",
     "name": "stdout",
     "text": [
      "inversa_A:\n",
      " [[ 1. -1.]\n",
      " [-2.  3.]]\n"
     ]
    }
   ],
   "metadata": {}
  },
  {
   "cell_type": "markdown",
   "source": [
    "Se halla x sabiendo que:\n",
    "\n",
    "$$\n",
    "A\\cdot x=b\\newline\n",
    "x=A^{-1}\\cdot b\n",
    "$$"
   ],
   "metadata": {}
  },
  {
   "cell_type": "code",
   "execution_count": 9,
   "source": [
    "x = inversa_A.dot(b)\n",
    "print(x)"
   ],
   "outputs": [
    {
     "output_type": "stream",
     "name": "stdout",
     "text": [
      "[[0.]\n",
      " [1.]]\n"
     ]
    }
   ],
   "metadata": {}
  },
  {
   "cell_type": "markdown",
   "source": [
    "Da como resulta para la matriz x de (0, 1), ahora se prueba en la sistema matricial a mano:\n",
    "\n",
    "$$\n",
    "3x+y=1\\newline\n",
    "3*0+1*1=1\n",
    "$$\n",
    "$$\n",
    "2x+y=1\\newline\n",
    "2*0+1*1=1\n",
    "$$\n",
    "\n",
    "Ahora, se este cálculo realizado a mano se puede escribir en código como:"
   ],
   "metadata": {}
  },
  {
   "cell_type": "code",
   "execution_count": 10,
   "source": [
    "print(A.dot(x))"
   ],
   "outputs": [
    {
     "output_type": "stream",
     "name": "stdout",
     "text": [
      "[[1.]\n",
      " [1.]]\n"
     ]
    }
   ],
   "metadata": {}
  },
  {
   "cell_type": "markdown",
   "source": [
    "Se muestra el mismo resultado.\n",
    "\n",
    "Esto significa, que para este caso, la primera columna de la matriz A, no es representativa para la matriz b que son los resultados. Si se mantiene la matriz A, es decir, se mantiene los coeficientes del sistema de ecuaciones, siempre la misma matriz inversa de A funciona para calcular los valores de la matriz x, los cuales varían segun la matriz b. Por ejemplo.\n",
    "\n",
    "$$\n",
    "3x+y=3\\newline\n",
    "2x+y=7\n",
    "$$\n",
    "\n",
    "Se utiliza la misma matriz inversa"
   ],
   "metadata": {}
  },
  {
   "cell_type": "code",
   "execution_count": 11,
   "source": [
    "sol_2 = inversa_A.dot(np.array([[3],[7]]))\n",
    "print('sol_2:\\n', sol_2)"
   ],
   "outputs": [
    {
     "output_type": "stream",
     "name": "stdout",
     "text": [
      "sol_2:\n",
      " [[-4.]\n",
      " [15.]]\n"
     ]
    }
   ],
   "metadata": {}
  },
  {
   "cell_type": "markdown",
   "source": [
    "Se prueba para saber si este es solución"
   ],
   "metadata": {}
  },
  {
   "cell_type": "code",
   "execution_count": 12,
   "source": [
    "print(A.dot(sol_2))"
   ],
   "outputs": [
    {
     "output_type": "stream",
     "name": "stdout",
     "text": [
      "[[3.]\n",
      " [7.]]\n"
     ]
    }
   ],
   "metadata": {}
  },
  {
   "cell_type": "markdown",
   "source": [
    "Efectivamente se halla una nueva matriz x, por tanto el sistema de soluciones x depende del resultado b, y la inversa de A siempre va a ser unica para la matriz A.\n",
    "\n",
    "Sin embargo, esta forma de resolver un sistema de ecuaciones lineales no es eficiente de manera computacional y debemos recurrir a otro métodos para su solución.\n",
    "\n"
   ],
   "metadata": {}
  }
 ],
 "metadata": {
  "orig_nbformat": 4,
  "language_info": {
   "name": "python",
   "version": "3.8.10",
   "mimetype": "text/x-python",
   "codemirror_mode": {
    "name": "ipython",
    "version": 3
   },
   "pygments_lexer": "ipython3",
   "nbconvert_exporter": "python",
   "file_extension": ".py"
  },
  "kernelspec": {
   "name": "python3",
   "display_name": "Python 3.8.10 64-bit ('venv': venv)"
  },
  "interpreter": {
   "hash": "4f20b4b42551f24f9c75692598c37c28bcfd52bab95c05c72a4a47e4107bbc7d"
  }
 },
 "nbformat": 4,
 "nbformat_minor": 2
}