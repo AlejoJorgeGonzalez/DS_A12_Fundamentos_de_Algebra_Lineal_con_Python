{
 "cells": [
  {
   "cell_type": "markdown",
   "source": [
    "# MATRICES ORTOGONALES Y SUS PROPIEDADES"
   ],
   "metadata": {}
  },
  {
   "cell_type": "code",
   "execution_count": 1,
   "source": [
    "import numpy as np"
   ],
   "outputs": [],
   "metadata": {}
  },
  {
   "cell_type": "markdown",
   "source": [
    "Una matriz es ortogonal cuando todas sus filas son mutuamente ortonormales y todas sus columnas son mutuamente ortonormales."
   ],
   "metadata": {}
  },
  {
   "cell_type": "code",
   "execution_count": 2,
   "source": [
    "# Se crea la matriz\n",
    "matriz = np.array([[1, 0, 0],\n",
    "                   [0, 1, 0],\n",
    "                   [0, 0, 1]])\n",
    "\n",
    "print('matriz:\\n', matriz)"
   ],
   "outputs": [
    {
     "output_type": "stream",
     "name": "stdout",
     "text": [
      "matriz:\n",
      " [[1 0 0]\n",
      " [0 1 0]\n",
      " [0 0 1]]\n"
     ]
    }
   ],
   "metadata": {}
  },
  {
   "cell_type": "markdown",
   "source": [
    "A proposito se crea la matriz identidad que se sabe es ortogonal, sin embargo se comprueba que sea ortogonal en python"
   ],
   "metadata": {}
  },
  {
   "cell_type": "code",
   "execution_count": 3,
   "source": [
    "print('ortogonal:\\n', matriz[:,0].dot(matriz[:,1]))"
   ],
   "outputs": [
    {
     "output_type": "stream",
     "name": "stdout",
     "text": [
      "ortogonal:\n",
      " 0\n"
     ]
    }
   ],
   "metadata": {}
  },
  {
   "cell_type": "markdown",
   "source": [
    "De esta forma con el producto interno igual a 0, se compruba que los primeros vectores son ortogonales, para entender mejor, se tiene una matriz con tres vectores\n",
    "\n",
    "$$\n",
    "\\begin{bmatrix}\n",
    "v_{1} & v_{2} & v_{3}\n",
    "\\end{bmatrix}\n",
    "$$\n",
    "\n",
    "de tal forma que los tres vectores son ortogonale uno del otro\n",
    "\n",
    "$$\n",
    "v_{1} \\perp v_{2}\\newline\n",
    "v_{1} \\perp v_{3}\\newline\n",
    "v_{2} \\perp v_{3}\n",
    "$$\n"
   ],
   "metadata": {}
  },
  {
   "cell_type": "code",
   "execution_count": 4,
   "source": [
    "print('ortogonal v1 v2:\\n', matriz[:,0].dot(matriz[:,1]))\n",
    "print('ortogonal v1 v3:\\n', matriz[:,0].dot(matriz[:,2]))\n",
    "print('ortogonal v2 v3:\\n', matriz[:,1].dot(matriz[:,2]))"
   ],
   "outputs": [
    {
     "output_type": "stream",
     "name": "stdout",
     "text": [
      "ortogonal v1 v2:\n",
      " 0\n",
      "ortogonal v1 v3:\n",
      " 0\n",
      "ortogonal v2 v3:\n",
      " 0\n"
     ]
    }
   ],
   "metadata": {}
  },
  {
   "cell_type": "markdown",
   "source": [
    "De esta forma se comprueba que todos los vectores son ortogonales entre si mismo, por lo que la matriz es ortogonal, ahora se revisa si son ortonomales"
   ],
   "metadata": {}
  },
  {
   "cell_type": "code",
   "execution_count": 5,
   "source": [
    "print('ortonormal v1:\\n', np.linalg.norm(matriz[:,0]))\n",
    "print('ortonormal v2:\\n', np.linalg.norm(matriz[:,1]))\n",
    "print('ortonormal v3:\\n', np.linalg.norm(matriz[:,2]))"
   ],
   "outputs": [
    {
     "output_type": "stream",
     "name": "stdout",
     "text": [
      "ortonormal v1:\n",
      " 1.0\n",
      "ortonormal v2:\n",
      " 1.0\n",
      "ortonormal v3:\n",
      " 1.0\n"
     ]
    }
   ],
   "metadata": {}
  },
  {
   "cell_type": "markdown",
   "source": [
    "Todos los vectores tienen norma 1 por lo tanto todos los vectores son ortonormales, pero en este caso solo se evaluaron las columnas y para que una matriz sea ortogonal tambien se necesita que sus filas sean ortonormales, pero primero se observa si son ortogonales."
   ],
   "metadata": {}
  },
  {
   "cell_type": "code",
   "execution_count": 6,
   "source": [
    "print('ortogonal f1 f2:\\n', matriz[0,:].dot(matriz[1,:]))\n",
    "print('ortogonal f1 f3:\\n', matriz[0,:].dot(matriz[2,:]))\n",
    "print('ortogonal f2 f3:\\n', matriz[1,:].dot(matriz[2,:]))"
   ],
   "outputs": [
    {
     "output_type": "stream",
     "name": "stdout",
     "text": [
      "ortogonal f1 f2:\n",
      " 0\n",
      "ortogonal f1 f3:\n",
      " 0\n",
      "ortogonal f2 f3:\n",
      " 0\n"
     ]
    }
   ],
   "metadata": {}
  },
  {
   "cell_type": "markdown",
   "source": [
    "EL resultado del producto interno entre filas de como resultado 0, por lo que entre filas son ortogonales. Ahora se evalua la norma entre las normas."
   ],
   "metadata": {}
  },
  {
   "cell_type": "code",
   "execution_count": 7,
   "source": [
    "print('ortonormal f1:\\n', np.linalg.norm(matriz[0,:]))\n",
    "print('ortonormal f2:\\n', np.linalg.norm(matriz[1,:]))\n",
    "print('ortonormal f3:\\n', np.linalg.norm(matriz[2,:]))"
   ],
   "outputs": [
    {
     "output_type": "stream",
     "name": "stdout",
     "text": [
      "ortonormal f1:\n",
      " 1.0\n",
      "ortonormal f2:\n",
      " 1.0\n",
      "ortonormal f3:\n",
      " 1.0\n"
     ]
    }
   ],
   "metadata": {}
  },
  {
   "cell_type": "markdown",
   "source": [
    "Entre filas se obtiene de norma 1 por lo que las filas son ortonormales, por lo tanto la matriz es ortogonal. En matrices no existe el concepto de matriz ortonormal, ya que al trabajar con vectores ortonormales no da espacio para la matriz ortonormal, se dice que es una matriz ortogonal que se compone de vectores ortonormales. Solo para matrices ortogonales se cumple la siguiente propiedad:\n",
    "\n",
    "$$\n",
    "A^{T}\\cdot A=A\\cdot A^{T}=Id\\newline Solo\\ para\\ matrices\\ ortogonales\n",
    "$$\n",
    "\n",
    "por tanto \n",
    "\n",
    "$$\n",
    "A^{T}=A^{-1}\n",
    "$$\n",
    "\n",
    "Ahora se muesta como generar matrices ortogonales en python, la cuál se apoya en las funciones trigonometricas seno y coseno.\n",
    "\n"
   ],
   "metadata": {}
  },
  {
   "cell_type": "code",
   "execution_count": 8,
   "source": [
    "# Se genera la matriz con una rotación sobre el eje para generar una \n",
    "# matriz que sea orotogonal\n",
    "A = np.array([[np.cos(100), -np.sin(100)],\n",
    "              [np.sin(100), np.cos(100)]])\n",
    "print('A:\\n', A)"
   ],
   "outputs": [
    {
     "output_type": "stream",
     "name": "stdout",
     "text": [
      "A:\n",
      " [[ 0.86231887  0.50636564]\n",
      " [-0.50636564  0.86231887]]\n"
     ]
    }
   ],
   "metadata": {}
  },
  {
   "cell_type": "markdown",
   "source": [
    "Ahora se comprueba que esta matriz es ortogonal"
   ],
   "metadata": {}
  },
  {
   "cell_type": "code",
   "execution_count": 9,
   "source": [
    "print('Ortonormal f1', np.linalg.norm(A[0,:]))\n",
    "print('Ortonormal f2', np.linalg.norm(A[1,:]))\n",
    "print('Ortonormal c1', np.linalg.norm(A[:,0]))\n",
    "print('Ortonormal c2', np.linalg.norm(A[:,1]))"
   ],
   "outputs": [
    {
     "output_type": "stream",
     "name": "stdout",
     "text": [
      "Ortonormal f1 0.9999999999999999\n",
      "Ortonormal f2 0.9999999999999999\n",
      "Ortonormal c1 0.9999999999999999\n",
      "Ortonormal c2 0.9999999999999999\n"
     ]
    }
   ],
   "metadata": {}
  },
  {
   "cell_type": "markdown",
   "source": [
    "Se observa que los valores son muy cercanos a 1, debido a que computacionalmente queda decimales perdidos, por lo que hay que tener especial cuidado al realizar estos calculo, ya que para este ejemplo la solución verdadera es 1 para cada norma.\n",
    "\n",
    "Ahora, se halla el producto interno entre filas y columnas."
   ],
   "metadata": {}
  },
  {
   "cell_type": "code",
   "execution_count": 10,
   "source": [
    "print('Ortogonal f1 f2',A[0,:].dot(A[1,:]))\n",
    "print('Ortogonal c1 c2',A[:,0].dot(A[:,1]))"
   ],
   "outputs": [
    {
     "output_type": "stream",
     "name": "stdout",
     "text": [
      "Ortogonal f1 f2 0.0\n",
      "Ortogonal c1 c2 0.0\n"
     ]
    }
   ],
   "metadata": {}
  },
  {
   "cell_type": "markdown",
   "source": [
    "El producto interno de filas y columnas es 0, por lo que son ortogonales, esto demuestra que no necesariamente la identidad es la unica matriz que es ortogonal. Ahora se comprueba la propiedad\n",
    "\n",
    "$$\n",
    "A^{T}\\cdot A= A\\cdot A^{T}=Id\n",
    "$$"
   ],
   "metadata": {}
  },
  {
   "cell_type": "code",
   "execution_count": 11,
   "source": [
    "A_t = A.T\n",
    "print('A^T.A:\\n', A_t.dot(A))\n",
    "print('A.A^T', A.dot(A_t))"
   ],
   "outputs": [
    {
     "output_type": "stream",
     "name": "stdout",
     "text": [
      "A^T.A:\n",
      " [[ 1.00000000e+00 -7.93771519e-18]\n",
      " [-7.93771519e-18  1.00000000e+00]]\n",
      "A.A^T [[1.00000000e+00 7.93771519e-18]\n",
      " [7.93771519e-18 1.00000000e+00]]\n"
     ]
    }
   ],
   "metadata": {}
  },
  {
   "cell_type": "markdown",
   "source": [
    "Aunque no parezca a simple vista, se tiene la matriz identidad, ya que la diagonal es 1 y los elementos de la diagonal son ceros, pero debido al error computacional aparece números elevados a una potencia muy negativa, por lo que son muchos decimales en cero, es decir, números muy pequeños que se tomar como cero. Nuevamente se debe tener cuidado con el error computacional, porque puede generar conclusiones que no son ciertas."
   ],
   "metadata": {}
  },
  {
   "cell_type": "code",
   "execution_count": 12,
   "source": [
    "A_inv = np.linalg.inv(A)\n",
    "print('A^-1:\\n',A_inv)\n",
    "print('A^T:\\n', A_t)"
   ],
   "outputs": [
    {
     "output_type": "stream",
     "name": "stdout",
     "text": [
      "A^-1:\n",
      " [[ 0.86231887 -0.50636564]\n",
      " [ 0.50636564  0.86231887]]\n",
      "A^T:\n",
      " [[ 0.86231887 -0.50636564]\n",
      " [ 0.50636564  0.86231887]]\n"
     ]
    }
   ],
   "metadata": {}
  },
  {
   "cell_type": "markdown",
   "source": [
    "Se puede ver que tanto la inversa como la transpuesta de A es la misma matriz."
   ],
   "metadata": {}
  },
  {
   "cell_type": "code",
   "execution_count": 13,
   "source": [
    "print('1/A^T.A:\\n', 1/A_t.dot(A))"
   ],
   "outputs": [
    {
     "output_type": "stream",
     "name": "stdout",
     "text": [
      "1/A^T.A:\n",
      " [[ 1.00000000e+00 -1.25980837e+17]\n",
      " [-1.25980837e+17  1.00000000e+00]]\n"
     ]
    }
   ],
   "metadata": {}
  },
  {
   "cell_type": "markdown",
   "source": [
    "Al dividirlo se obtiene una matriz con unos valores muy grandes, por lo que hay que tener cuidado con las operaciones, ya que se puede estar amplificando el error, para este caso debio haber aparecido una operación no definida ya que se estaba dividiendo por cero."
   ],
   "metadata": {}
  }
 ],
 "metadata": {
  "orig_nbformat": 4,
  "language_info": {
   "name": "python",
   "version": "3.8.10",
   "mimetype": "text/x-python",
   "codemirror_mode": {
    "name": "ipython",
    "version": 3
   },
   "pygments_lexer": "ipython3",
   "nbconvert_exporter": "python",
   "file_extension": ".py"
  },
  "kernelspec": {
   "name": "python3",
   "display_name": "Python 3.8.10 64-bit ('venv': venv)"
  },
  "interpreter": {
   "hash": "4f20b4b42551f24f9c75692598c37c28bcfd52bab95c05c72a4a47e4107bbc7d"
  }
 },
 "nbformat": 4,
 "nbformat_minor": 2
}