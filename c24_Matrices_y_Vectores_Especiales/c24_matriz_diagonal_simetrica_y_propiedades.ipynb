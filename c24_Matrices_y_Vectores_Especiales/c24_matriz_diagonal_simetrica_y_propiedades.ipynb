{
 "cells": [
  {
   "cell_type": "markdown",
   "source": [
    "# LA MATRIZ DIAGONAL Y LA MATRIZ SIMÉTRICA: SUS PROPIEDADES"
   ],
   "metadata": {}
  },
  {
   "cell_type": "code",
   "execution_count": 1,
   "source": [
    "import numpy as np"
   ],
   "outputs": [],
   "metadata": {}
  },
  {
   "cell_type": "markdown",
   "source": [
    "En clases anteriores se mostraron matrices especiales como por ejemplo la matriz identidad, la cual es:\n",
    "\n",
    "$$\n",
    "\\begin{bmatrix}\n",
    "1 & 0 & 0 & 0\\\\ \n",
    "0 & 1 & 0 & 0\\\\ \n",
    "0 & 0 & 1 & 0\\\\ \n",
    "0 & 0 & 0 & 1\n",
    "\\end{bmatrix}\n",
    "$$\n",
    "\n",
    "Ademas, existen operaciones especiales como por ejemplo el producto interno de una matriz A por su inversa el cuál da como resultado la matriz identidad:\n",
    "\n",
    "$$\n",
    "A\\cdot A^{-1}=Id\n",
    "$$\n",
    "\n",
    "Por otro lado, tambien se tiene la matriz singular, la cuál no tiene inversa:\n",
    "\n",
    "$$\n",
    "S\\rightarrow \\notin S^{-1}\n",
    "$$\n",
    "\n",
    "Es hora de ver otros tipos de matrices"
   ],
   "metadata": {}
  },
  {
   "cell_type": "code",
   "execution_count": 4,
   "source": [
    "# Se crea el vector\n",
    "vector = np.array([1,2,3,4,5])\n",
    "# Se crea la matriz con la diagonal con los elementos del vector\n",
    "matriz = np.diag(vector)\n",
    "\n",
    "print('matriz diagonal:\\n', matriz)"
   ],
   "outputs": [
    {
     "output_type": "stream",
     "name": "stdout",
     "text": [
      "matriz diagonal:\n",
      " [[1 0 0 0 0]\n",
      " [0 2 0 0 0]\n",
      " [0 0 3 0 0]\n",
      " [0 0 0 4 0]\n",
      " [0 0 0 0 5]]\n"
     ]
    }
   ],
   "metadata": {}
  },
  {
   "cell_type": "markdown",
   "source": [
    "A este tipo de matrices se le conoce como diagonales, los cuales sus elementos son igual a cero menos en la diagonal de la matriz, es de anotar que las matrices diagonales no necesariamente deben ser cuadradas, como por ejemplo"
   ],
   "metadata": {}
  },
  {
   "cell_type": "code",
   "execution_count": 5,
   "source": [
    "print('matriz diagonal:\\n', matriz[0:4,0:3])\n",
    "print('matriz diagonal:\\n', matriz[0:3,0:4])"
   ],
   "outputs": [
    {
     "output_type": "stream",
     "name": "stdout",
     "text": [
      "matriz diagonal:\n",
      " [[1 0 0]\n",
      " [0 2 0]\n",
      " [0 0 3]\n",
      " [0 0 0]]\n",
      "matriz diagonal:\n",
      " [[1 0 0 0]\n",
      " [0 2 0 0]\n",
      " [0 0 3 0]]\n"
     ]
    }
   ],
   "metadata": {}
  },
  {
   "cell_type": "markdown",
   "source": [
    "Una propiedad importante de las matrices diagonales, es que cuando se multiplican por un vector, no estan haciendo una combinación lineal de las distintas coordenadas, para demostrar esto se tiene el siguiente producto interno de dos matrices\n",
    "\n",
    "$$\n",
    "\\begin{bmatrix}\n",
    "1 & 0 & 0 & 0\\\\ \n",
    "0 & 2 & 0 & 0\\\\ \n",
    "0 & 0 & 3 & 0\\\\ \n",
    "0 & 0 & 0 & 4\n",
    "\\end{bmatrix}\n",
    "\\cdot \\begin{bmatrix}\n",
    "x_{1} \\\\ \n",
    "x_{2} \\\\ \n",
    "x_{3} \\\\ \n",
    "x_{4}\n",
    "\\end{bmatrix}\n",
    "$$\n",
    "\n",
    "Si se realiza el calculo, por ejemplo con x1, este solo se multiplica con un solo elemento, el resto multiplica por cero por lo que no se aplica una combinación lineal, en python puede mostrarse como:"
   ],
   "metadata": {}
  },
  {
   "cell_type": "code",
   "execution_count": 6,
   "source": [
    "# Se crea la matriz diagonal\n",
    "A = np.diag([2,3,4,5])\n",
    "print('A:\\n', A)\n",
    "# Se crea el vector\n",
    "v1 = np.array([[1,1,1,1]])\n",
    "print('v1:\\n', v1)\n",
    "# El resultado del producto interno de estos dos es\n",
    "print('A.v1^T:\\n', A.dot(v1.T))"
   ],
   "outputs": [
    {
     "output_type": "stream",
     "name": "stdout",
     "text": [
      "A:\n",
      " [[2 0 0 0]\n",
      " [0 3 0 0]\n",
      " [0 0 4 0]\n",
      " [0 0 0 5]]\n",
      "v1:\n",
      " [[1 1 1 1]]\n",
      "A.v1^T:\n",
      " [[2]\n",
      " [3]\n",
      " [4]\n",
      " [5]]\n"
     ]
    }
   ],
   "metadata": {}
  },
  {
   "cell_type": "markdown",
   "source": [
    "No devuelve un vector que no es ninguna combinación lineal, simplemente estan amplificados los valores del vector. La matriz inversa resulta ser 1 divido por cada uno de los elementos de la matriz, lo cual se muestra en python"
   ],
   "metadata": {}
  },
  {
   "cell_type": "code",
   "execution_count": 7,
   "source": [
    "A_inv = np.diag([1/2, 1/3, 1/4, 1/5])\n",
    "print('A^-1:\\n', A_inv)"
   ],
   "outputs": [
    {
     "output_type": "stream",
     "name": "stdout",
     "text": [
      "A^-1:\n",
      " [[0.5        0.         0.         0.        ]\n",
      " [0.         0.33333333 0.         0.        ]\n",
      " [0.         0.         0.25       0.        ]\n",
      " [0.         0.         0.         0.2       ]]\n"
     ]
    }
   ],
   "metadata": {}
  },
  {
   "cell_type": "markdown",
   "source": [
    "Para comprobar que efectivamente esta es la matriz inversa se recurre a la propiedad\n",
    "\n",
    "$$\n",
    "A\\cdot A^{-1}=Id\n",
    "$$"
   ],
   "metadata": {}
  },
  {
   "cell_type": "code",
   "execution_count": 8,
   "source": [
    "identidad = A.dot(A_inv)\n",
    "print('Id:\\n', identidad)"
   ],
   "outputs": [
    {
     "output_type": "stream",
     "name": "stdout",
     "text": [
      "Id:\n",
      " [[1. 0. 0. 0.]\n",
      " [0. 1. 0. 0.]\n",
      " [0. 0. 1. 0.]\n",
      " [0. 0. 0. 1.]]\n"
     ]
    }
   ],
   "metadata": {}
  },
  {
   "cell_type": "markdown",
   "source": [
    "Se obtiene la matriz identidad."
   ],
   "metadata": {}
  },
  {
   "cell_type": "code",
   "execution_count": 9,
   "source": [
    "A_inv_calc = np.linalg.inv(A)\n",
    "print('A^-1:\\n', A_inv_calc)"
   ],
   "outputs": [
    {
     "output_type": "stream",
     "name": "stdout",
     "text": [
      "A^-1:\n",
      " [[0.5        0.         0.         0.        ]\n",
      " [0.         0.33333333 0.         0.        ]\n",
      " [0.         0.         0.25       0.        ]\n",
      " [0.         0.         0.         0.2       ]]\n"
     ]
    }
   ],
   "metadata": {}
  },
  {
   "cell_type": "markdown",
   "source": [
    "Con la función linalg.inv da el mismo resultado que la matriz inversa anterior.\n",
    "\n",
    "Por otro lado, una matriz es simetrica cuando su transpuesta es la misma matriz, es decir\n",
    "\n",
    "$$\n",
    "A=A^{T}\n",
    "$$\n",
    "\n",
    "Es de recordar que la transpuesta es cambiar las filas por las columnas, por tanto toda matriz diagonal es simetrica, se muestran algunos casos de matrices simetricas."
   ],
   "metadata": {}
  },
  {
   "cell_type": "code",
   "execution_count": 10,
   "source": [
    "print('A:\\n', A)\n",
    "print('A^T:\\n', A.T)"
   ],
   "outputs": [
    {
     "output_type": "stream",
     "name": "stdout",
     "text": [
      "A:\n",
      " [[2 0 0 0]\n",
      " [0 3 0 0]\n",
      " [0 0 4 0]\n",
      " [0 0 0 5]]\n",
      "A^T:\n",
      " [[2 0 0 0]\n",
      " [0 3 0 0]\n",
      " [0 0 4 0]\n",
      " [0 0 0 5]]\n"
     ]
    }
   ],
   "metadata": {}
  },
  {
   "cell_type": "markdown",
   "source": [
    "Se demuestra que la matriz A es simetrica por ser una matriz diagonal, Ahora se define otra matriz mas complicada."
   ],
   "metadata": {}
  },
  {
   "cell_type": "code",
   "execution_count": 11,
   "source": [
    "simetrica = np.array([[1,2,3],\n",
    "                      [2,-1,7],\n",
    "                      [3,7,11]])\n",
    "print('simetrica:\\n', simetrica)\n",
    "print('simetrica.T:\\n', simetrica.T)"
   ],
   "outputs": [
    {
     "output_type": "stream",
     "name": "stdout",
     "text": [
      "simetrica:\n",
      " [[ 1  2  3]\n",
      " [ 2 -1  7]\n",
      " [ 3  7 11]]\n",
      "simetrica.T:\n",
      " [[ 1  2  3]\n",
      " [ 2 -1  7]\n",
      " [ 3  7 11]]\n"
     ]
    }
   ],
   "metadata": {}
  },
  {
   "cell_type": "markdown",
   "source": [
    "Se tiene la misma matriz, por tanto la matriz es simétrica.\n",
    "\n",
    "se tiene la siguiente propiedad:\n",
    "\n",
    "$$\n",
    "(A\\cdot B)^{T}=B^{T}\\cdot A^{T}\n",
    "$$\n",
    "\n",
    "El cual solamente para matrices simétricas se cumple que:\n",
    "$$\n",
    "(A\\cdot B)^{T}=B\\cdot A\\newline solo\\ para\\ matrices\\ simetricas\n",
    "$$"
   ],
   "metadata": {}
  }
 ],
 "metadata": {
  "orig_nbformat": 4,
  "language_info": {
   "name": "python",
   "version": "3.8.10",
   "mimetype": "text/x-python",
   "codemirror_mode": {
    "name": "ipython",
    "version": 3
   },
   "pygments_lexer": "ipython3",
   "nbconvert_exporter": "python",
   "file_extension": ".py"
  },
  "kernelspec": {
   "name": "python3",
   "display_name": "Python 3.8.10 64-bit ('venv': venv)"
  },
  "interpreter": {
   "hash": "4f20b4b42551f24f9c75692598c37c28bcfd52bab95c05c72a4a47e4107bbc7d"
  }
 },
 "nbformat": 4,
 "nbformat_minor": 2
}