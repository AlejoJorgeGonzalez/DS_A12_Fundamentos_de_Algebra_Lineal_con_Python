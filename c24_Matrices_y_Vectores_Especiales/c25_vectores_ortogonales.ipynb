{
 "cells": [
  {
   "cell_type": "markdown",
   "source": [
    "# VECTORES ORTOGONALES, MATRICES ORTOGONALES Y SUS PROPIEDADES"
   ],
   "metadata": {}
  },
  {
   "cell_type": "code",
   "execution_count": 2,
   "source": [
    "%matplotlib inline\n",
    "\n",
    "import numpy as np\n",
    "import matplotlib.pyplot as plt"
   ],
   "outputs": [],
   "metadata": {}
  },
  {
   "cell_type": "markdown",
   "source": [
    "Para hablar de ortogonales se tiene que hablar de al menos dos vectores, el ser un vector ortogonal significa que ese vector tiene un ángulo de 90° con otro vector."
   ],
   "metadata": {}
  },
  {
   "cell_type": "code",
   "execution_count": 4,
   "source": [
    "# Se crean los vectores\n",
    "x = np.array([0,0,2,2])\n",
    "y = np.array([0,0,2,-2])\n",
    "\n",
    "# Se dibujan los vectores\n",
    "plt.quiver([x[0], y[0]],\n",
    "            [x[1], y[1]],\n",
    "            [x[2], y[2]],\n",
    "            [x[3], y[3]],\n",
    "            angles='xy', scale_units='xy', scale=1)\n",
    "plt.xlim(-2, 4)\n",
    "plt.ylim(-3, 3)\n",
    "plt.show()"
   ],
   "outputs": [
    {
     "output_type": "display_data",
     "data": {
      "image/png": "[encoded data removed]",
      "text/plain": [
       "<Figure size 432x288 with 1 Axes>"
      ]
     },
     "metadata": {
      "needs_background": "light"
     }
    }
   ],
   "metadata": {}
  },
  {
   "cell_type": "markdown",
   "source": [
    "Se tienen dos vectores que forman entre ellos 90°, ahora se comprueba esto:"
   ],
   "metadata": {}
  },
  {
   "cell_type": "code",
   "execution_count": 6,
   "source": [
    "# Se crean los vectores sin las coordenadas de origen\n",
    "v1 = np.array([[2, 2]])\n",
    "v2 = np.array([[2, -2]])\n",
    "\n",
    "print('v1:\\n', v1)\n",
    "print('v2:\\n', v2)\n",
    "print('v1.v2^T:\\n', v1.dot(v2.T))"
   ],
   "outputs": [
    {
     "output_type": "stream",
     "name": "stdout",
     "text": [
      "v1:\n",
      " [[2 2]]\n",
      "v2:\n",
      " [[ 2 -2]]\n",
      "v1.v2^T:\n",
      " [[0]]\n"
     ]
    }
   ],
   "metadata": {}
  },
  {
   "cell_type": "markdown",
   "source": [
    "El producto interno da 0, porque tiene un ángulo de 90° y por tanto son ortogonales entre ellos.\n",
    "\n",
    "Ahora, los vectores ortonormales son aquellos en los que sus normas son 1, se comprueba si estos vectores son ortonormales."
   ],
   "metadata": {}
  },
  {
   "cell_type": "code",
   "execution_count": 7,
   "source": [
    "print(np.linalg.norm(v1))\n",
    "print(np.linalg.norm(v2))"
   ],
   "outputs": [
    {
     "output_type": "stream",
     "name": "stdout",
     "text": [
      "2.8284271247461903\n",
      "2.8284271247461903\n"
     ]
    }
   ],
   "metadata": {}
  },
  {
   "cell_type": "markdown",
   "source": [
    "Esto demuestra que estos vectores no son ortonormales, la forma de hacerlos ortonormales es dividirlos por su norma, pero por el momento se prueba con otros vectores "
   ],
   "metadata": {}
  },
  {
   "cell_type": "code",
   "execution_count": 8,
   "source": [
    "v1 = np.array([[1,0]])\n",
    "v2 = np.array([[0,-1]])\n",
    "print(v1.dot(v2.T))"
   ],
   "outputs": [
    {
     "output_type": "stream",
     "name": "stdout",
     "text": [
      "[[0]]\n"
     ]
    }
   ],
   "metadata": {}
  },
  {
   "cell_type": "markdown",
   "source": [
    "Estos vectores son ortogonales, ahora se prueba si son ortonormales"
   ],
   "metadata": {}
  },
  {
   "cell_type": "code",
   "execution_count": 9,
   "source": [
    "print(np.linalg.norm(v1))\n",
    "print(np.linalg.norm(v2))"
   ],
   "outputs": [
    {
     "output_type": "stream",
     "name": "stdout",
     "text": [
      "1.0\n",
      "1.0\n"
     ]
    }
   ],
   "metadata": {}
  },
  {
   "cell_type": "markdown",
   "source": [
    "Tambien son vectores ortonormales.\n",
    "\n",
    "Es de anotar que no pueden existir mas de n vectores ortigonales entre si en un espacio rn, es decir, que para r2 no existe mas de dos vectores que sean ortogonales entre sí."
   ],
   "metadata": {}
  }
 ],
 "metadata": {
  "orig_nbformat": 4,
  "language_info": {
   "name": "python",
   "version": "3.8.10",
   "mimetype": "text/x-python",
   "codemirror_mode": {
    "name": "ipython",
    "version": 3
   },
   "pygments_lexer": "ipython3",
   "nbconvert_exporter": "python",
   "file_extension": ".py"
  },
  "kernelspec": {
   "name": "python3",
   "display_name": "Python 3.8.10 64-bit ('venv': venv)"
  },
  "interpreter": {
   "hash": "4f20b4b42551f24f9c75692598c37c28bcfd52bab95c05c72a4a47e4107bbc7d"
  }
 },
 "nbformat": 4,
 "nbformat_minor": 2
}