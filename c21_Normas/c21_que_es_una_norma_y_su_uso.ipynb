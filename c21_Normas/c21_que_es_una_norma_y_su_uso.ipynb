{
 "cells": [
  {
   "cell_type": "markdown",
   "source": [
    "# QUÉ ES UNA NORMA Y PARA QUÉ SE USA. DESIGUALDAD TRIANGULAR"
   ],
   "metadata": {}
  },
  {
   "cell_type": "code",
   "execution_count": 1,
   "source": [
    "%matplotlib inline\n",
    "\n",
    "import numpy as np\n",
    "import matplotlib.pyplot as plt\n",
    "import seaborn as sns"
   ],
   "outputs": [],
   "metadata": {}
  },
  {
   "cell_type": "markdown",
   "source": [
    "La norma representa el tamaño de un vector, este valor siempre va a ser igual o mayor que cero. La norma es muy utilizada en el campo del machine learning por que permite calcular el error de un modelo. Algunas propiedades de la norma son:\n",
    "\n",
    "$$\n",
    "norma(v)\\geq 0\n",
    "$$\n",
    "$$\n",
    "norma(v)=0\\leftrightarrow v=0\n",
    "$$\n",
    "$$\n",
    "norma(v_3)\\leq norma(v_1) + norma(v_2),\\ Desigualdad\\ Triangular\n",
    "$$\n",
    "$$\n",
    "norma(av)=abs(a)norma(v),\\ siendo\\ a\\ un\\ escalar\n",
    "$$"
   ],
   "metadata": {}
  },
  {
   "cell_type": "code",
   "execution_count": 2,
   "source": [
    "# Se crea los vectores\n",
    "\n",
    "v1 = np.array([2, 7])\n",
    "v2 = np.array([3, 5])\n",
    "\n",
    "print('v1:\\n', v1)\n",
    "print('v2:\\n', v2)"
   ],
   "outputs": [
    {
     "output_type": "stream",
     "name": "stdout",
     "text": [
      "v1:\n",
      " [2 7]\n",
      "v2:\n",
      " [3 5]\n"
     ]
    }
   ],
   "metadata": {}
  },
  {
   "cell_type": "code",
   "execution_count": 3,
   "source": [
    "# Se suman los dos vectores\n",
    "v1v2 = v1 + v2\n",
    "print('v1 + v2:\\n', v1v2)"
   ],
   "outputs": [
    {
     "output_type": "stream",
     "name": "stdout",
     "text": [
      "v1 + v2:\n",
      " [ 5 12]\n"
     ]
    }
   ],
   "metadata": {}
  },
  {
   "cell_type": "code",
   "execution_count": 5,
   "source": [
    "# linalg.norm calcula la norma de un vector\n",
    "print('norma(v1v2):\\n', np.linalg.norm(v1v2))\n",
    "\n",
    "# norma(v1v2) <= norma(v1) + norma(v2)\n",
    "norma_v1 = np.linalg.norm(v1)\n",
    "norma_v2 = np.linalg.norm(v2)\n",
    "norma_v1v2 = np.linalg.norm(v1v2)\n",
    "\n",
    "print('norma_v1v2 <= (norma_v1 + norma_v2): ', norma_v1v2 <= norma_v1 + norma_v2)\n"
   ],
   "outputs": [
    {
     "output_type": "stream",
     "name": "stdout",
     "text": [
      "norma(v1v2):\n",
      " 13.0\n",
      "norma_v1v2 <= (norma_v1 + norma_v2):  True\n"
     ]
    }
   ],
   "metadata": {}
  },
  {
   "cell_type": "markdown",
   "source": [
    "Efectivamente se cumple con la propiedad de la desigualdad triangular, ahora, la única forma de que la norma de los dos vectores sea igual a la suma de cada vector, es que el vector tenga la misma direción que el otro vector."
   ],
   "metadata": {}
  },
  {
   "cell_type": "code",
   "execution_count": 6,
   "source": [
    "# Estos vectores tiene cuatro componentes, los primeros dos son el\n",
    "# punto de inicio y los dos finales son el punto final.\n",
    "v1 = np.array([0, 0, 2, 7])\n",
    "v2 = np.array([0, 0, 3, 5])\n",
    "# Se crea un vector auxiliar\n",
    "v1_aux = np.array([v1[2], v1[3], v2[2], v2[3]])\n",
    "v1v2 = np.array([0, 0, 5, 12])"
   ],
   "outputs": [],
   "metadata": {}
  },
  {
   "cell_type": "code",
   "execution_count": 8,
   "source": [
    "# Se grafican los vectores\n",
    "plt.quiver([v1[0], v1_aux[0], v1v2[0]],\n",
    "            [v1[1], v1_aux[1], v1v2[1]],\n",
    "            [v1[2], v1_aux[2], v1v2[2]],\n",
    "            [v1[3], v1_aux[3], v1v2[3]],\n",
    "            angles='xy', scale_units='xy', scale=1, \n",
    "            color = sns.color_palette())\n",
    "plt.xlim(-0.5, 6)\n",
    "plt.ylim(-0.5, 15)"
   ],
   "outputs": [
    {
     "output_type": "execute_result",
     "data": {
      "text/plain": [
       "(-0.5, 15.0)"
      ]
     },
     "metadata": {},
     "execution_count": 8
    },
    {
     "output_type": "display_data",
     "data": {
      "image/png": "[encoded data removed]",
      "text/plain": [
       "<Figure size 432x288 with 1 Axes>"
      ]
     },
     "metadata": {
      "needs_background": "light"
     }
    }
   ],
   "metadata": {}
  },
  {
   "cell_type": "markdown",
   "source": [
    "Se muestra el vector v1 de color azul, el vector naranja es una traslacción del vector v2 y estos dos da el vector resultante que el vector verde."
   ],
   "metadata": {}
  }
 ],
 "metadata": {
  "orig_nbformat": 4,
  "language_info": {
   "name": "python",
   "version": "3.8.10",
   "mimetype": "text/x-python",
   "codemirror_mode": {
    "name": "ipython",
    "version": 3
   },
   "pygments_lexer": "ipython3",
   "nbconvert_exporter": "python",
   "file_extension": ".py"
  },
  "kernelspec": {
   "name": "python3",
   "display_name": "Python 3.8.10 64-bit ('venv': venv)"
  },
  "interpreter": {
   "hash": "4f20b4b42551f24f9c75692598c37c28bcfd52bab95c05c72a4a47e4107bbc7d"
  }
 },
 "nbformat": 4,
 "nbformat_minor": 2
}