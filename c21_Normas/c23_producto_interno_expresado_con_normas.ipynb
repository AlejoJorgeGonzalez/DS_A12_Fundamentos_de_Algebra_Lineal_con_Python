{
 "cells": [
  {
   "cell_type": "markdown",
   "source": [
    "# EL PRODUCTO INTERNO COMO FUNCIÓN DE UNA NORMA Y SU VISUALIZACIÓN"
   ],
   "metadata": {}
  },
  {
   "cell_type": "code",
   "execution_count": 4,
   "source": [
    "%matplotlib inline\n",
    "\n",
    "import numpy as np\n",
    "import matplotlib.pyplot as plt\n",
    "import seaborn as sns"
   ],
   "outputs": [],
   "metadata": {}
  },
  {
   "cell_type": "markdown",
   "source": [
    "Uno de las ecuaciones mas importantes entre vectores es:\n",
    "\n",
    "$$\n",
    "v_{1}^{T}\\cdot v_{2}=\\left \\| v_{1} \\right \\|\\left \\| v_{2} \\right \\|cos(\\alpha )\\newline donde,\\ v_{1}^{T}\\ es\\ la\\ tranpuesta\\newline \\left \\| v_{1} \\right \\|\\ es\\ la\\ norma\\ 2\\newline \\alpha \\ es\\ el\\ angulo\\ entre\\ los\\ dos\\ vectores\n",
    "$$"
   ],
   "metadata": {}
  },
  {
   "cell_type": "code",
   "execution_count": 6,
   "source": [
    "# Se crean los vectores necesarios\n",
    "v1 = np.array([0,0,0,3])\n",
    "v2 = np.array([0,0,3,3])\n",
    "\n",
    "# Se dibuja los vectores\n",
    "plt.xlim(-2, 6)\n",
    "plt.ylim(-2, 6)\n",
    "\n",
    "plt.quiver([v1[0], v2[0]],\n",
    "            [v1[1], v2[1]],\n",
    "            [v1[2], v2[2]],\n",
    "            [v1[3], v2[3]],\n",
    "            angles='xy', scale_units='xy', scale=1,\n",
    "            color=sns.color_palette())\n",
    "plt.show()"
   ],
   "outputs": [
    {
     "output_type": "display_data",
     "data": {
      "image/png": "[encoded data removed]",
      "text/plain": [
       "<Figure size 432x288 with 1 Axes>"
      ]
     },
     "metadata": {
      "needs_background": "light"
     }
    }
   ],
   "metadata": {}
  },
  {
   "cell_type": "markdown",
   "source": [
    "Se muestra los dos vectores que se han creado, de manera intencional, el vector naranja parte exactamente en dos el grafico, por lo que de antemano se tiene un vector a 45° del eje horizontal y 45° del vector azul, ahora se comprueba la ecuación."
   ],
   "metadata": {}
  },
  {
   "cell_type": "code",
   "execution_count": 8,
   "source": [
    "# Se escriben los vectores sin colocarles el origen\n",
    "v1 = np.array([0, 3])\n",
    "v2 = np.array([3, 3])\n",
    "\n",
    "print('v1:\\n', v1)\n",
    "print('v2:\\n', v2)\n",
    "# Se calcula el lado izquierdo de la ecuación\n",
    "print('v1^T.v2:\\n', v1.T.dot(v2))"
   ],
   "outputs": [
    {
     "output_type": "stream",
     "name": "stdout",
     "text": [
      "v1:\n",
      " [0 3]\n",
      "v2:\n",
      " [3 3]\n",
      "v1^T.v2:\n",
      " 9\n"
     ]
    }
   ],
   "metadata": {}
  },
  {
   "cell_type": "markdown",
   "source": [
    "El producto interno de los dos vectores es 9, que es el lado izquiedo de la ecuación."
   ],
   "metadata": {}
  },
  {
   "cell_type": "code",
   "execution_count": 9,
   "source": [
    "# Se halla la norma de los dos vectores\n",
    "norma_v1 = np.linalg.norm(v1)\n",
    "norma_v2 = np.linalg.norm(v2)\n",
    "\n",
    "print('norma_v1:\\n', norma_v1)\n",
    "print('norma_v2:\\n', norma_v2)\n",
    "# Se calcula el lado derecho de la ecuación, np.cos halla el coseno de\n",
    "# un ángulo, pero este ángulo debe estar en radianes, por tanto se \n",
    "# utiliza la función np.deg2rad para convertir de grados a radianes\n",
    "print('norma_v1*norma_v2*cos(alpha):\\n', norma_v1*norma_v2*np.cos(np.deg2rad(45)))"
   ],
   "outputs": [
    {
     "output_type": "stream",
     "name": "stdout",
     "text": [
      "norma_v1:\n",
      " 3.0\n",
      "norma_v2:\n",
      " 4.242640687119285\n",
      "norma_v1*norma_v2*cos(alpha):\n",
      " 9.0\n"
     ]
    }
   ],
   "metadata": {}
  },
  {
   "cell_type": "markdown",
   "source": [
    "El lado derecho de la ecuación es igual a 9, que es el mismo valor que el lado izquierdo de la ecuación.\n",
    "\n",
    "Con esta ecuación se puede hallar el ángulo entre dos vectores, el cual es muy utilizado en el machine learning por medio de la similitud coseno, el cuál se utiliza por ejemplo, para calcular la similitud de dos textos haciendo que cada texto se represente en un vector, de tal forma que si estos dos vectores tienen un ángulo muy pequeño se puede decir que son identicos, pero si por el contrario el ángulo entre ellos es de 90° se puede decir que no se parecen en nada.\n"
   ],
   "metadata": {}
  }
 ],
 "metadata": {
  "orig_nbformat": 4,
  "language_info": {
   "name": "python",
   "version": "3.8.10",
   "mimetype": "text/x-python",
   "codemirror_mode": {
    "name": "ipython",
    "version": 3
   },
   "pygments_lexer": "ipython3",
   "nbconvert_exporter": "python",
   "file_extension": ".py"
  },
  "kernelspec": {
   "name": "python3",
   "display_name": "Python 3.8.10 64-bit ('venv': venv)"
  },
  "interpreter": {
   "hash": "4f20b4b42551f24f9c75692598c37c28bcfd52bab95c05c72a4a47e4107bbc7d"
  }
 },
 "nbformat": 4,
 "nbformat_minor": 2
}