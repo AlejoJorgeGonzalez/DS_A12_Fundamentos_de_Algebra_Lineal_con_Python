{
 "cells": [
  {
   "cell_type": "markdown",
   "source": [
    "# TIPOS DE NORMAS: NORMA 0, NORMA 1, NORMA 2, NORMA INFINITO Y NORMA L2 AL CUADRADO"
   ],
   "metadata": {}
  },
  {
   "cell_type": "code",
   "execution_count": 1,
   "source": [
    "import numpy as np"
   ],
   "outputs": [],
   "metadata": {}
  },
  {
   "cell_type": "markdown",
   "source": [
    "Tipos de norma:\n",
    "\n",
    "$$\n",
    "L0=Numero\\ de\\ v_i \\neq 0\n",
    "$$\n",
    "$$\n",
    "L1= \\sum_{i}^{}abs(v_i)\n",
    "$$\n",
    "$$\n",
    "L2 = Distancia\\ Euclidiana\n",
    "$$\n",
    "$$\n",
    "(L_2)^{2} = x.dot(x^{t})\n",
    "$$\n",
    "$$\n",
    "L\\infty=max_iabs(v_i)\n",
    "$$"
   ],
   "metadata": {}
  },
  {
   "cell_type": "code",
   "execution_count": 2,
   "source": [
    "vector = np.array([1, 2, 0, 5, 6, 0])\n",
    "print('L0:\\n', np.linalg.norm(vector, ord=0))"
   ],
   "outputs": [
    {
     "output_type": "stream",
     "name": "stdout",
     "text": [
      "L0:\n",
      " 4.0\n"
     ]
    }
   ],
   "metadata": {}
  },
  {
   "cell_type": "markdown",
   "source": [
    "L0 devuelve la cantidad de elementos que son diferentes de cero. Un uso práctico de L0 es calcular el número de personas que realizaron compras en una base de datos."
   ],
   "metadata": {}
  },
  {
   "cell_type": "code",
   "execution_count": 3,
   "source": [
    "vector = np.array([1, -1, 1, -1, 1])\n",
    "print('L1:\\n', np.linalg.norm(vector, ord=1))"
   ],
   "outputs": [
    {
     "output_type": "stream",
     "name": "stdout",
     "text": [
      "L1:\n",
      " 5.0\n"
     ]
    }
   ],
   "metadata": {}
  },
  {
   "cell_type": "markdown",
   "source": [
    "L1 es la sumatoria de todos los valores absouto de los elementos del vectores."
   ],
   "metadata": {}
  },
  {
   "cell_type": "code",
   "execution_count": 4,
   "source": [
    "vector = np.array([1, 1])\n",
    "print('L2: \\n', np.linalg.norm(vector))\n",
    "print('L2: \\n', np.linalg.norm(vector, ord=2))"
   ],
   "outputs": [
    {
     "output_type": "stream",
     "name": "stdout",
     "text": [
      "L2: \n",
      " 1.4142135623730951\n",
      "L2: \n",
      " 1.4142135623730951\n"
     ]
    }
   ],
   "metadata": {}
  },
  {
   "cell_type": "markdown",
   "source": [
    "L2 devuelve la distancia euclidiana de un vector, note como sin colocarle el ord=2, numpy devuelve el mismo valor, ya que por defecto la función norm toma un L2."
   ],
   "metadata": {}
  },
  {
   "cell_type": "code",
   "execution_count": 5,
   "source": [
    "vector = np.array([1, 2, 3, 4, 5, 6])\n",
    "print('vector:\\n', vector)\n",
    "print('L2^2: \\n', np.linalg.norm(vector, ord=2)**2)\n",
    "print('vector.T.dot(vector):\\n', vector.T.dot(vector))"
   ],
   "outputs": [
    {
     "output_type": "stream",
     "name": "stdout",
     "text": [
      "vector:\n",
      " [1 2 3 4 5 6]\n",
      "L2^2: \n",
      " 91.0\n",
      "vector.T.dot(vector):\n",
      " 91\n"
     ]
    }
   ],
   "metadata": {}
  },
  {
   "cell_type": "markdown",
   "source": [
    "Al realizar el producto interno de un vector con el mismo, da el mismo reslutado que la función L2 al cuadrado, Esta forma tiene muchas ventajas computacionales por lo que es mas usado."
   ],
   "metadata": {}
  },
  {
   "cell_type": "code",
   "execution_count": 6,
   "source": [
    "vector = np.array([1, 2, 3, 100])\n",
    "print('L_infinito: \\n', np.linalg.norm(vector, ord=np.inf))"
   ],
   "outputs": [
    {
     "output_type": "stream",
     "name": "stdout",
     "text": [
      "L_infinito: \n",
      " 100.0\n"
     ]
    }
   ],
   "metadata": {}
  },
  {
   "cell_type": "markdown",
   "source": [
    "L infinito devuelve el valor absoluto mas alto de las componentes del valor."
   ],
   "metadata": {}
  }
 ],
 "metadata": {
  "orig_nbformat": 4,
  "language_info": {
   "name": "python",
   "version": "3.8.10",
   "mimetype": "text/x-python",
   "codemirror_mode": {
    "name": "ipython",
    "version": 3
   },
   "pygments_lexer": "ipython3",
   "nbconvert_exporter": "python",
   "file_extension": ".py"
  },
  "kernelspec": {
   "name": "python3",
   "display_name": "Python 3.8.10 64-bit ('venv': venv)"
  },
  "interpreter": {
   "hash": "4f20b4b42551f24f9c75692598c37c28bcfd52bab95c05c72a4a47e4107bbc7d"
  }
 },
 "nbformat": 4,
 "nbformat_minor": 2
}