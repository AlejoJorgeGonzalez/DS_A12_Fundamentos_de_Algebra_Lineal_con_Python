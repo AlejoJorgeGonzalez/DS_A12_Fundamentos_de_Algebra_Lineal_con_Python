{
 "cells": [
  {
   "cell_type": "markdown",
   "source": [
    "# PROPIEDADES DE LA MASTRICES: LA MULTIPLICACIÓN DE MATRICES ES ASOCIATIVA Y DISTRIBUTIVA, NO ES CONMUTATIVA"
   ],
   "metadata": {}
  },
  {
   "cell_type": "code",
   "execution_count": 1,
   "source": [
    "# Se importa las librerías necesarias\n",
    "import numpy as np"
   ],
   "outputs": [],
   "metadata": {}
  },
  {
   "cell_type": "code",
   "execution_count": 2,
   "source": [
    "# Matrices necesarias para el desarrollo de la clase\n",
    "A = np.array([[2,3], [5,7], [11,13]])\n",
    "B = np.array([[1,3], [2,1]])\n",
    "C = np.array([[3,1], [4,2]])"
   ],
   "outputs": [],
   "metadata": {}
  },
  {
   "cell_type": "markdown",
   "source": [
    "## Asociativa\n",
    "\n",
    "Es asociativa si:\n",
    "\n",
    "$$\n",
    "A \\cdot (B \\cdot C) = (A \\cdot B) \\cdot C\n",
    "$$"
   ],
   "metadata": {}
  },
  {
   "cell_type": "code",
   "execution_count": 5,
   "source": [
    "ABC = A.dot(B.dot(C))\n",
    "AB_C = A.dot(B).dot(C)\n",
    "print('A.(B.C):\\n', ABC)\n",
    "print('(A.B).C:\\n', AB_C)"
   ],
   "outputs": [
    {
     "output_type": "stream",
     "name": "stdout",
     "text": [
      "A.(B.C):\n",
      " [[ 60  26]\n",
      " [145  63]\n",
      " [295 129]]\n",
      "(A.B).C:\n",
      " [[ 60  26]\n",
      " [145  63]\n",
      " [295 129]]\n"
     ]
    }
   ],
   "metadata": {}
  },
  {
   "cell_type": "markdown",
   "source": [
    "Aunque esta no es la manera formal de probar una propiedad, si nos demuestra que el producto interno matrices cumple con la propiedad asociativa. **Es asociativa.** "
   ],
   "metadata": {}
  },
  {
   "cell_type": "markdown",
   "source": [
    "## Distributiva\n",
    "Es distributiva si:\n",
    "\n",
    "$$\n",
    "A\\cdot(B+C)=(A\\cdot B)+(A\\cdot C)\n",
    "$$"
   ],
   "metadata": {}
  },
  {
   "cell_type": "code",
   "execution_count": 7,
   "source": [
    "D = A.dot(B + C)\n",
    "E = (A.dot(B)) + (A.dot(C))\n",
    "print('A.(B+C):\\n', D)\n",
    "print('(A.B)+(A.C):\\n', E)\n",
    "print(D==E)"
   ],
   "outputs": [
    {
     "output_type": "stream",
     "name": "stdout",
     "text": [
      "A.(B+C):\n",
      " [[ 26  17]\n",
      " [ 62  41]\n",
      " [122  83]]\n",
      "(A.B)+(A.C):\n",
      " [[ 26  17]\n",
      " [ 62  41]\n",
      " [122  83]]\n",
      "[[ True  True]\n",
      " [ True  True]\n",
      " [ True  True]]\n"
     ]
    }
   ],
   "metadata": {}
  },
  {
   "cell_type": "markdown",
   "source": [
    "Por tanto la operación producto punto **es distributiva**"
   ],
   "metadata": {}
  },
  {
   "cell_type": "markdown",
   "source": [
    "## Conmutativa\n",
    "\n",
    "Es conmutativa si:\n",
    "\n",
    "$$\n",
    "B\\cdot C = C\\cdot B\n",
    "$$"
   ],
   "metadata": {}
  },
  {
   "cell_type": "code",
   "execution_count": 8,
   "source": [
    "F = B.dot(C)\n",
    "G = C.dot(C)\n",
    "print('A.B:\\n', F)\n",
    "print('B.A:\\n', G)\n",
    "print(F == G)"
   ],
   "outputs": [
    {
     "output_type": "stream",
     "name": "stdout",
     "text": [
      "A.B:\n",
      " [[15  7]\n",
      " [10  4]]\n",
      "B.A:\n",
      " [[13  5]\n",
      " [20  8]]\n",
      "[[False False]\n",
      " [False False]]\n"
     ]
    }
   ],
   "metadata": {}
  },
  {
   "cell_type": "markdown",
   "source": [
    "Por tanto se puede decir que la operación producto interno **NO es asociativa**"
   ],
   "metadata": {}
  },
  {
   "cell_type": "markdown",
   "source": [
    "Ahora se prueba con la operación producto interno de vectores"
   ],
   "metadata": {}
  },
  {
   "cell_type": "code",
   "execution_count": 9,
   "source": [
    "# Se crean los vectores\n",
    "v1 = np.array([[2],[7]])\n",
    "v2 = np.array([[3], [5]])"
   ],
   "outputs": [],
   "metadata": {}
  },
  {
   "cell_type": "code",
   "execution_count": 10,
   "source": [
    "v1_tv2 = v1.T.dot(v2)\n",
    "v2_tv1 = v2.T.dot(v1)\n",
    "print('v1.v2:\\n', v1_tv2)\n",
    "print('v2.v1:\\n', v2_tv1)"
   ],
   "outputs": [
    {
     "output_type": "stream",
     "name": "stdout",
     "text": [
      "v1.v2:\n",
      " [[41]]\n",
      "v2.v1:\n",
      " [[41]]\n"
     ]
    }
   ],
   "metadata": {}
  },
  {
   "cell_type": "markdown",
   "source": [
    "Se observa que para el producto interno **Es conmutativa solo en vectores, en matrices no aplica**"
   ],
   "metadata": {}
  }
 ],
 "metadata": {
  "orig_nbformat": 4,
  "language_info": {
   "name": "python",
   "version": "3.8.10",
   "mimetype": "text/x-python",
   "codemirror_mode": {
    "name": "ipython",
    "version": 3
   },
   "pygments_lexer": "ipython3",
   "nbconvert_exporter": "python",
   "file_extension": ".py"
  },
  "kernelspec": {
   "name": "python3",
   "display_name": "Python 3.8.10 64-bit ('venv': venv)"
  },
  "interpreter": {
   "hash": "4f20b4b42551f24f9c75692598c37c28bcfd52bab95c05c72a4a47e4107bbc7d"
  }
 },
 "nbformat": 4,
 "nbformat_minor": 2
}