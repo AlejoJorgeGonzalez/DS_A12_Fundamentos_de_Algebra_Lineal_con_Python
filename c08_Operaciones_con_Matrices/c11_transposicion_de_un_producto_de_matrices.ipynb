{
 "cells": [
  {
   "cell_type": "markdown",
   "source": [
    "# TRANSPOSICIÓN DE UN PRODUCTO DE MATRICES"
   ],
   "metadata": {}
  },
  {
   "cell_type": "code",
   "execution_count": 1,
   "source": [
    "# Se importa la librerías necesarias\n",
    "import numpy as np"
   ],
   "outputs": [],
   "metadata": {}
  },
  {
   "cell_type": "code",
   "execution_count": 5,
   "source": [
    "# Matrices para el desarrollo de la clase\n",
    "A = np.array([[2,3], [5,7], [11,13]])\n",
    "B = np.array([[1,3], [2,1]])"
   ],
   "outputs": [],
   "metadata": {}
  },
  {
   "cell_type": "code",
   "execution_count": 6,
   "source": [
    "print('A:\\n', A)\n",
    "print('B:\\n', B)"
   ],
   "outputs": [
    {
     "output_type": "stream",
     "name": "stdout",
     "text": [
      "A:\n",
      " [[ 2  3]\n",
      " [ 5  7]\n",
      " [11 13]]\n",
      "B:\n",
      " [[1 3]\n",
      " [2 1]]\n"
     ]
    }
   ],
   "metadata": {}
  },
  {
   "cell_type": "markdown",
   "source": [
    "En matemáticas existe una propiedad para las matrices que es:\n",
    "\n",
    "$$\n",
    "(A\\cdot B)^{t}=B^{t}\\cdot A^{t}\n",
    "$$\n",
    "ademas, \n",
    "$$\n",
    "((A\\cdot B)^{t})^{t} = A\\cdot B\n",
    "$$\n",
    "\n",
    "Lo cuál permite trabajar con dos matrices, para hallar una posible solución a un sistema lineal de ecuaciones."
   ],
   "metadata": {}
  },
  {
   "cell_type": "code",
   "execution_count": 8,
   "source": [
    "AB_t = A.dot(B).T\n",
    "B_tA_t = B.T.dot(A.T)\n",
    "print('(A.B)^t:\\n', AB_t)\n",
    "print('B^t.A^t:\\n', B_tA_t)\n",
    "print(AB_t == B_tA_t)"
   ],
   "outputs": [
    {
     "output_type": "stream",
     "name": "stdout",
     "text": [
      "(A.B)^t:\n",
      " [[ 8 19 37]\n",
      " [ 9 22 46]]\n",
      "B^t.A^t:\n",
      " [[ 8 19 37]\n",
      " [ 9 22 46]]\n",
      "[[ True  True  True]\n",
      " [ True  True  True]]\n"
     ]
    }
   ],
   "metadata": {}
  },
  {
   "cell_type": "markdown",
   "source": [
    "Se demuestra que se cumple con la propiedad antes dicha."
   ],
   "metadata": {}
  }
 ],
 "metadata": {
  "orig_nbformat": 4,
  "language_info": {
   "name": "python",
   "version": "3.8.10",
   "mimetype": "text/x-python",
   "codemirror_mode": {
    "name": "ipython",
    "version": 3
   },
   "pygments_lexer": "ipython3",
   "nbconvert_exporter": "python",
   "file_extension": ".py"
  },
  "kernelspec": {
   "name": "python3",
   "display_name": "Python 3.8.10 64-bit ('venv': venv)"
  },
  "interpreter": {
   "hash": "4f20b4b42551f24f9c75692598c37c28bcfd52bab95c05c72a4a47e4107bbc7d"
  }
 },
 "nbformat": 4,
 "nbformat_minor": 2
}