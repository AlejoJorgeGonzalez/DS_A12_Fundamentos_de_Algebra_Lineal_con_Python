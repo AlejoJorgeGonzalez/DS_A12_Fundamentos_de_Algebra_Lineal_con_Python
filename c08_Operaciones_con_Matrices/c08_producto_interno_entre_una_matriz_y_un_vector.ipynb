{
 "cells": [
  {
   "cell_type": "markdown",
   "source": [
    "# PRODUCTO INTERNO ENTRE UNA MATRIZ Y UN VECTOR"
   ],
   "metadata": {}
  },
  {
   "cell_type": "code",
   "execution_count": 1,
   "source": [
    "# Se importa la librerías necesarias\n",
    "import numpy as np\n"
   ],
   "outputs": [],
   "metadata": {}
  },
  {
   "cell_type": "code",
   "execution_count": 2,
   "source": [
    "# Creación de datos\n",
    "escalar = 5.679\n",
    "vector = np.array([2,3])\n",
    "matriz = np.array([[1,2], [3,4], [5,6]])"
   ],
   "outputs": [],
   "metadata": {}
  },
  {
   "cell_type": "code",
   "execution_count": 5,
   "source": [
    "# Se multiplica la matriz con el vector\n",
    "A = matriz * vector\n",
    "# Producto interno\n",
    "B = matriz.dot(vector)\n",
    "print('Matriz:\\n', matriz)\n",
    "print('Vector:\\n', vector)\n",
    "print('Multiplicacion:\\n', A)\n",
    "print('Producto interno:\\n', B)"
   ],
   "outputs": [
    {
     "output_type": "stream",
     "name": "stdout",
     "text": [
      "Matriz:\n",
      " [[1 2]\n",
      " [3 4]\n",
      " [5 6]]\n",
      "Vector:\n",
      " [2 3]\n",
      "Multiplicacion:\n",
      " [[ 2  6]\n",
      " [ 6 12]\n",
      " [10 18]]\n",
      "Producto interno:\n",
      " [ 8 18 28]\n"
     ]
    }
   ],
   "metadata": {}
  },
  {
   "cell_type": "markdown",
   "source": [
    "La multiplicación de una matriz 3*2 por un vector de 2, da como resultado una matriz de 3x2, ya que se hace un braodcasting hasta obtener el tamaño de la matriz, es decir\n",
    "\n",
    "$$\n",
    "\\begin{bmatrix}\n",
    "1 & 2\\\\ \n",
    "3 & 4\\\\ \n",
    "5 & 6\n",
    "\\end{bmatrix}\\begin{bmatrix}\n",
    "2 & 3\n",
    "\\end{bmatrix} = \\begin{bmatrix}\n",
    "1*2 & 2*3\\\\ \n",
    "3*2 & 4*3\\\\ \n",
    "5*2 & 6*3\n",
    "\\end{bmatrix}=\\begin{bmatrix}\n",
    "2 & 6\\\\ \n",
    "6 & 12\\\\ \n",
    "10 & 18\n",
    "\\end{bmatrix}\n",
    "$$\n",
    "\n",
    "El producto interno se realiza la operación como:\n",
    "\n",
    "$$\n",
    "\\begin{bmatrix}\n",
    "a_{11} & a_{12}\\\\ \n",
    "a_{21} & a_{22}\\\\ \n",
    "a_{31} & a_{32}\n",
    "\\end{bmatrix}\\cdot \\begin{bmatrix}\n",
    "b_{1}\\\\b_{2} \\end{bmatrix}\n",
    "=\\begin{bmatrix}\n",
    "a_{11}*b_{1}+a_{12}*b_{2}\\\\\n",
    "a_{21}*b_{1}+a_{22}*b_{2}\\\\ \n",
    "a_{31}*b_{1}+a_{32}*b_{1}\\end{bmatrix}\n",
    "$$\n",
    "\n",
    "Para este caso, \n",
    "\n",
    "$$\n",
    "\\begin{bmatrix}\n",
    "1 & 2\\\\3 & 4\\\\ 5 & 6\n",
    "\\end{bmatrix}\\cdot \\begin{bmatrix}\n",
    "2\\\\3 \\end{bmatrix}\n",
    "=\\begin{bmatrix}\n",
    "1*2+2*3\\\\3*2+4*3\\\\ \n",
    "5*2+6*3\\end{bmatrix} = \\begin{bmatrix}\n",
    "8\\\\ 18 \\\\ 28 \\end{bmatrix}\n",
    "$$\n"
   ],
   "metadata": {}
  },
  {
   "cell_type": "markdown",
   "source": [
    "El producto interno se puede expresar de dos formas en python como:"
   ],
   "metadata": {}
  },
  {
   "cell_type": "code",
   "execution_count": 6,
   "source": [
    "B = matriz.dot(vector)\n",
    "C = np.dot(matriz, vector)\n",
    "print(B)\n",
    "print(C)"
   ],
   "outputs": [
    {
     "output_type": "stream",
     "name": "stdout",
     "text": [
      "[ 8 18 28]\n",
      "[ 8 18 28]\n"
     ]
    }
   ],
   "metadata": {}
  }
 ],
 "metadata": {
  "orig_nbformat": 4,
  "language_info": {
   "name": "python",
   "version": "3.8.10",
   "mimetype": "text/x-python",
   "codemirror_mode": {
    "name": "ipython",
    "version": 3
   },
   "pygments_lexer": "ipython3",
   "nbconvert_exporter": "python",
   "file_extension": ".py"
  },
  "kernelspec": {
   "name": "python3",
   "display_name": "Python 3.8.10 64-bit ('venv': venv)"
  },
  "interpreter": {
   "hash": "4f20b4b42551f24f9c75692598c37c28bcfd52bab95c05c72a4a47e4107bbc7d"
  }
 },
 "nbformat": 4,
 "nbformat_minor": 2
}