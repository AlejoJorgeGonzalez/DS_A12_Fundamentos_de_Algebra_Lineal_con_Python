{
 "cells": [
  {
   "cell_type": "markdown",
   "source": [
    "# PRODUCTO INTERNO ENTRE DOS MATRICES"
   ],
   "metadata": {}
  },
  {
   "cell_type": "code",
   "execution_count": 1,
   "source": [
    "# Se importa las librerías necesarias\n",
    "import numpy as np"
   ],
   "outputs": [],
   "metadata": {}
  },
  {
   "cell_type": "code",
   "execution_count": 2,
   "source": [
    "# Se crea las matrices con las que se van a estudiar\n",
    "A = np.array([[1,2,3], [4,5,6],[7,8,9], [10,11,12]])\n",
    "B = np.array([[2,3], [5,7], [11,13]])"
   ],
   "outputs": [],
   "metadata": {}
  },
  {
   "cell_type": "code",
   "execution_count": 3,
   "source": [
    "# Tamaño de las matrices\n",
    "print(A.shape)\n",
    "print(B.shape)"
   ],
   "outputs": [
    {
     "output_type": "stream",
     "name": "stdout",
     "text": [
      "(4, 3)\n",
      "(3, 2)\n"
     ]
    }
   ],
   "metadata": {}
  },
  {
   "cell_type": "code",
   "execution_count": 5,
   "source": [
    "C = A.dot(B)\n",
    "print(C)"
   ],
   "outputs": [
    {
     "output_type": "stream",
     "name": "stdout",
     "text": [
      "[[ 45  56]\n",
      " [ 99 125]\n",
      " [153 194]\n",
      " [207 263]]\n"
     ]
    }
   ],
   "metadata": {}
  },
  {
   "cell_type": "code",
   "execution_count": 6,
   "source": [
    "D = B.dot(A)\n",
    "print(D)"
   ],
   "outputs": [
    {
     "output_type": "error",
     "ename": "ValueError",
     "evalue": "shapes (3,2) and (4,3) not aligned: 2 (dim 1) != 4 (dim 0)",
     "traceback": [
      "\u001b[0;31m---------------------------------------------------------------------------\u001b[0m",
      "\u001b[0;31mValueError\u001b[0m                                Traceback (most recent call last)",
      "\u001b[0;32m/tmp/ipykernel_621/1434079552.py\u001b[0m in \u001b[0;36m<module>\u001b[0;34m\u001b[0m\n\u001b[0;32m----> 1\u001b[0;31m \u001b[0mD\u001b[0m \u001b[0;34m=\u001b[0m \u001b[0mB\u001b[0m\u001b[0;34m.\u001b[0m\u001b[0mdot\u001b[0m\u001b[0;34m(\u001b[0m\u001b[0mA\u001b[0m\u001b[0;34m)\u001b[0m\u001b[0;34m\u001b[0m\u001b[0;34m\u001b[0m\u001b[0m\n\u001b[0m\u001b[1;32m      2\u001b[0m \u001b[0mprint\u001b[0m\u001b[0;34m(\u001b[0m\u001b[0mD\u001b[0m\u001b[0;34m)\u001b[0m\u001b[0;34m\u001b[0m\u001b[0;34m\u001b[0m\u001b[0m\n",
      "\u001b[0;31mValueError\u001b[0m: shapes (3,2) and (4,3) not aligned: 2 (dim 1) != 4 (dim 0)"
     ]
    }
   ],
   "metadata": {}
  },
  {
   "cell_type": "markdown",
   "source": [],
   "metadata": {}
  },
  {
   "cell_type": "markdown",
   "source": [
    "Se puede observar que A.B esta definida, sin embargo B.A no esta definido. Recuerda que A tiene una dimensión de 4x3 y B de 3x2, para que la operación producto interno se pueda realizar, la primera matriz debe tener la misma dimensión de columnas que la dimesión de filas de la segunda matriz, el tamaño de la matriz resultante del numero de filas de la primera matriz y de columnas de la segunda matriz. Para A.B sus tamaños de (4,3).(3,2), dando como resultado una matriz (4,2).\n",
    "\n",
    "$$\n",
    "A.dot(B)= \\begin{bmatrix}\n",
    "a_{11} & a_{12} & a_{13}\\\\ \n",
    "a_{21} & a_{22} & a_{23}\\\\ \n",
    "a_{31} & a_{32} & a_{33}\\\\\n",
    "a_{41} & a_{42} & a_{43}\n",
    "\\end{bmatrix}\\cdot \\begin{bmatrix}\n",
    "b_{11} & b_{12}\\\\\n",
    "b_{21} & b_{22}\\\\\n",
    "b_{31} & b_{32}\n",
    "\\end{bmatrix} \\newline\n",
    "=\\begin{bmatrix}\n",
    "a_{11}*b_{11}+a_{12}*b_{21}+a_{13}*b_{31} & a_{11}*b_{12}+a_{12}*b_{22}+a_{13}*b_{32}\\\\\n",
    "a_{21}*b_{11}+a_{22}*b_{21}+a_{23}*b_{31} & a_{21}*b_{12}+a_{22}*b_{22}+a_{23}*b_{32}\\\\\n",
    "a_{31}*b_{11}+a_{32}*b_{21}+a_{33}*b_{31} & a_{31}*b_{12}+a_{32}*b_{22}+a_{33}*b_{32}\\\\\n",
    "a_{41}*b_{11}+a_{42}*b_{21}+a_{43}*b_{31} & a_{41}*b_{12}+a_{42}*b_{22}+a_{43}*b_{32}\\\\\n",
    "\\end{bmatrix}\n",
    "$$\n",
    "\n",
    "Para el caso de B.dot(A), no se puede realizar la operación, ya que el número de columnas de B (2) no es igual al número de filas de A (4)."
   ],
   "metadata": {}
  }
 ],
 "metadata": {
  "orig_nbformat": 4,
  "language_info": {
   "name": "python",
   "version": "3.8.10",
   "mimetype": "text/x-python",
   "codemirror_mode": {
    "name": "ipython",
    "version": 3
   },
   "pygments_lexer": "ipython3",
   "nbconvert_exporter": "python",
   "file_extension": ".py"
  },
  "kernelspec": {
   "name": "python3",
   "display_name": "Python 3.8.10 64-bit ('venv': venv)"
  },
  "interpreter": {
   "hash": "4f20b4b42551f24f9c75692598c37c28bcfd52bab95c05c72a4a47e4107bbc7d"
  }
 },
 "nbformat": 4,
 "nbformat_minor": 2
}