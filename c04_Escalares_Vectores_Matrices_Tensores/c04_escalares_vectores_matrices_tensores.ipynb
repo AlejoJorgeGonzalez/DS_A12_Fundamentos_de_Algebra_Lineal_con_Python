{
 "cells": [
  {
   "cell_type": "markdown",
   "source": [
    "# Creando las bases, escalares, vectores y matrices. ¿Qué es un tensor?, ¿Cómo se representa?"
   ],
   "metadata": {}
  },
  {
   "cell_type": "markdown",
   "source": [
    "## Escalares\n",
    "\n",
    "Un escalar en matemáticas no es nada mas ni nada menos que un número"
   ],
   "metadata": {}
  },
  {
   "cell_type": "code",
   "execution_count": 1,
   "source": [
    "escalar = 5.678\n",
    "print(escalar)"
   ],
   "outputs": [
    {
     "output_type": "stream",
     "name": "stdout",
     "text": [
      "5.678\n"
     ]
    }
   ],
   "metadata": {}
  },
  {
   "cell_type": "markdown",
   "source": [
    "Sin embargo, para python un escalar puede ser muchas cosas. Puede ser un integer, un float, puede ser un número complejo, un string, un caracter, un NULL y hasta un booleano."
   ],
   "metadata": {}
  },
  {
   "cell_type": "code",
   "execution_count": 2,
   "source": [
    "escalar_python = True\n",
    "print(escalar_python)\n",
    "# type muestra que clase de dato es el contenido\n",
    "print(type(escalar_python))"
   ],
   "outputs": [
    {
     "output_type": "stream",
     "name": "stdout",
     "text": [
      "True\n",
      "<class 'bool'>\n"
     ]
    }
   ],
   "metadata": {}
  },
  {
   "cell_type": "markdown",
   "source": [
    "## Vector"
   ],
   "metadata": {}
  },
  {
   "cell_type": "markdown",
   "source": [
    "En python puede haber diferentes tipos de arreglos, un escalar, un vector, una matriz o un tensor. Cada una se direrencia del grado de libertad que se tiene para interactuar. \n",
    "\n",
    "![](./imagenes/img9.png)\n",
    "\n",
    "Por tanto, un vector es un conjunto de escalares. La matriz es un conjunto de vectores y por tanto tiene dos grados de libertad y el tensor es un conjunto de matrices y puede tener uno o mas grados de libertad.\n",
    "\n",
    "Para poder manejar adecuadamente vectores, matrices y tensores, se requiere de la librería numpy."
   ],
   "metadata": {}
  },
  {
   "cell_type": "code",
   "execution_count": 3,
   "source": [
    "import numpy as np"
   ],
   "outputs": [],
   "metadata": {}
  },
  {
   "cell_type": "markdown",
   "source": [
    "La notación para vectores es la siguiente"
   ],
   "metadata": {}
  },
  {
   "cell_type": "code",
   "execution_count": 4,
   "source": [
    "vector = np.array([1, 2, 3, 4])\n",
    "print(vector)"
   ],
   "outputs": [
    {
     "output_type": "stream",
     "name": "stdout",
     "text": [
      "[1 2 3 4]\n"
     ]
    }
   ],
   "metadata": {}
  },
  {
   "cell_type": "markdown",
   "source": [
    "## Matriz\n",
    "\n",
    "En python las matrices se escriben doble corchete que se ve como:"
   ],
   "metadata": {}
  },
  {
   "cell_type": "code",
   "execution_count": 5,
   "source": [
    "matriz = np.array([[1,2,3], [4,5,6], [7,8,9]])\n",
    "print(matriz)"
   ],
   "outputs": [
    {
     "output_type": "stream",
     "name": "stdout",
     "text": [
      "[[1 2 3]\n",
      " [4 5 6]\n",
      " [7 8 9]]\n"
     ]
    }
   ],
   "metadata": {}
  },
  {
   "cell_type": "markdown",
   "source": [
    "## Tensor\n",
    "\n",
    "El tensor es una dimensión mas que las matrices, por tanto, estan encerrados dentro de tres corchetes, donde el mas externo es el tensor, lo sigue las matrices y los corchetes mas internos son los vectores."
   ],
   "metadata": {}
  },
  {
   "cell_type": "code",
   "execution_count": 6,
   "source": [
    "tensor = np.array([\n",
    "    [[1,2,3], [4,5,6], [7,8,9]],\n",
    "    [[11,12,13], [14,15,16], [17,18,19]],\n",
    "    [[21,22,23], [24,25,26], [27,28,29]]\n",
    "])\n",
    "print(tensor)"
   ],
   "outputs": [
    {
     "output_type": "stream",
     "name": "stdout",
     "text": [
      "[[[ 1  2  3]\n",
      "  [ 4  5  6]\n",
      "  [ 7  8  9]]\n",
      "\n",
      " [[11 12 13]\n",
      "  [14 15 16]\n",
      "  [17 18 19]]\n",
      "\n",
      " [[21 22 23]\n",
      "  [24 25 26]\n",
      "  [27 28 29]]]\n"
     ]
    }
   ],
   "metadata": {}
  },
  {
   "cell_type": "markdown",
   "source": [
    "## Ejemplo"
   ],
   "metadata": {}
  },
  {
   "cell_type": "markdown",
   "source": [
    "Lo que representan estos números depende del tipo de datos que se estan observando, pueden ser promedios o una imagen."
   ],
   "metadata": {}
  },
  {
   "cell_type": "code",
   "execution_count": 7,
   "source": [
    "# Línea para que los graficos continue una despues de la otra\n",
    "%matplotlib inline\n",
    "\n",
    "# Librería para realizar graficos\n",
    "import matplotlib.pyplot as plt"
   ],
   "outputs": [],
   "metadata": {}
  },
  {
   "cell_type": "code",
   "execution_count": 8,
   "source": [
    "# Se muestra una imagen con los números del tensor\n",
    "plt.imshow(tensor, interpolation='nearest')\n",
    "plt.show()"
   ],
   "outputs": [
    {
     "output_type": "display_data",
     "data": {
      "image/png": "[encoded data removed]",
      "text/plain": [
       "<Figure size 432x288 with 1 Axes>"
      ]
     },
     "metadata": {
      "needs_background": "light"
     }
    }
   ],
   "metadata": {}
  },
  {
   "cell_type": "markdown",
   "source": [
    "Se puede ver que con el tensor, sabiendo que los números ingresados son colores, se obtiene el color que representa cada vector. Se cambia el valor del tensor."
   ],
   "metadata": {}
  },
  {
   "cell_type": "code",
   "execution_count": 9,
   "source": [
    "tensor = np.array([\n",
    "    [[0,0,0],[0,0,0],[0,0,0]],\n",
    "    [[128,128,128], [128,128,128], [128,128,128]],\n",
    "    [[255,255,255], [255,255,255], [255,255,255]]\n",
    "])"
   ],
   "outputs": [],
   "metadata": {}
  },
  {
   "cell_type": "code",
   "execution_count": 10,
   "source": [
    "plt.imshow(tensor, interpolation='nearest')\n",
    "plt.show()"
   ],
   "outputs": [
    {
     "output_type": "display_data",
     "data": {
      "image/png": "[encoded data removed]",
      "text/plain": [
       "<Figure size 432x288 with 1 Axes>"
      ]
     },
     "metadata": {
      "needs_background": "light"
     }
    }
   ],
   "metadata": {}
  },
  {
   "cell_type": "markdown",
   "source": [
    "Se puede observar el negro absoluto, el gris intermedio entre negro y blanco y el blanco absoluto"
   ],
   "metadata": {}
  },
  {
   "cell_type": "markdown",
   "source": [
    "## Ejercicios"
   ],
   "metadata": {}
  },
  {
   "cell_type": "markdown",
   "source": [
    "Escalar numero 42"
   ],
   "metadata": {}
  },
  {
   "cell_type": "code",
   "execution_count": 11,
   "source": [
    "escalar = 42\n",
    "print(escalar)"
   ],
   "outputs": [
    {
     "output_type": "stream",
     "name": "stdout",
     "text": [
      "42\n"
     ]
    }
   ],
   "metadata": {}
  },
  {
   "cell_type": "markdown",
   "source": [
    "Vector"
   ],
   "metadata": {}
  },
  {
   "cell_type": "code",
   "execution_count": 12,
   "source": [
    "vector = np.array([2,3,5,7])\n",
    "print(vector)"
   ],
   "outputs": [
    {
     "output_type": "stream",
     "name": "stdout",
     "text": [
      "[2 3 5 7]\n"
     ]
    }
   ],
   "metadata": {}
  },
  {
   "cell_type": "markdown",
   "source": [
    "Matriz "
   ],
   "metadata": {}
  },
  {
   "cell_type": "code",
   "execution_count": 13,
   "source": [
    "matriz = np.array([[1,2,3], [4,5,6]])\n",
    "print(matriz)"
   ],
   "outputs": [
    {
     "output_type": "stream",
     "name": "stdout",
     "text": [
      "[[1 2 3]\n",
      " [4 5 6]]\n"
     ]
    }
   ],
   "metadata": {}
  },
  {
   "cell_type": "markdown",
   "source": [
    "Tensor"
   ],
   "metadata": {}
  },
  {
   "cell_type": "code",
   "execution_count": 14,
   "source": [
    "tensor = np.array([\n",
    "    [[255,255,255], [255,255,255], [255,255,255]],\n",
    "     [[0,0,0],[0,0,0],[0,0,0]],\n",
    "    [[128,128,128], [128,128,128], [128,128,128]]\n",
    "])\n",
    "\n",
    "plt.imshow(tensor, interpolation='nearest')\n",
    "plt.show()"
   ],
   "outputs": [
    {
     "output_type": "display_data",
     "data": {
      "image/png": "[encoded data removed]",
      "text/plain": [
       "<Figure size 432x288 with 1 Axes>"
      ]
     },
     "metadata": {
      "needs_background": "light"
     }
    }
   ],
   "metadata": {}
  },
  {
   "cell_type": "code",
   "execution_count": null,
   "source": [],
   "outputs": [],
   "metadata": {}
  }
 ],
 "metadata": {
  "orig_nbformat": 4,
  "language_info": {
   "name": "python",
   "version": "3.8.10",
   "mimetype": "text/x-python",
   "codemirror_mode": {
    "name": "ipython",
    "version": 3
   },
   "pygments_lexer": "ipython3",
   "nbconvert_exporter": "python",
   "file_extension": ".py"
  },
  "kernelspec": {
   "name": "python3",
   "display_name": "Python 3.8.10 64-bit ('venv': venv)"
  },
  "interpreter": {
   "hash": "4f20b4b42551f24f9c75692598c37c28bcfd52bab95c05c72a4a47e4107bbc7d"
  }
 },
 "nbformat": 4,
 "nbformat_minor": 2
}