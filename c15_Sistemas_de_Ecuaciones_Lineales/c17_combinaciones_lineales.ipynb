{
 "cells": [
  {
   "cell_type": "markdown",
   "source": [
    "# ¿QUÉ ES UNA COMBINACIÓN LÍNEAL?"
   ],
   "metadata": {}
  },
  {
   "cell_type": "code",
   "execution_count": 2,
   "source": [
    "%matplotlib inline\n",
    "\n",
    "import numpy as np\n",
    "import matplotlib.pyplot as plt\n",
    "\n",
    "%run '../funciones_auxiliares/c16_graficarVectores.ipynb'"
   ],
   "outputs": [],
   "metadata": {}
  },
  {
   "cell_type": "markdown",
   "source": [
    "Una combinación líneal es multiplicar un vector por un escalar, a otro vector por un escalar y despues sumar sus resultados para obtener un nuevos vector.\n",
    "\n",
    "$$\n",
    "V_{1}*2+V_{2}*3=V_{1}*V_{2}\n",
    "$$"
   ],
   "metadata": {}
  },
  {
   "cell_type": "code",
   "execution_count": 6,
   "source": [
    "# Se define los vectores\n",
    "v1 = np.array([2,5])\n",
    "v2 = np.array([3,2])\n",
    "\n",
    "# Ahora se escribe la combianación líneal\n",
    "v1v2 = 2*v1 + v2\n",
    "\n",
    "print('v1:\\n', v1)\n",
    "print('v2:\\n', v2)\n",
    "print('v1v2:\\n', v1v2)"
   ],
   "outputs": [
    {
     "output_type": "stream",
     "name": "stdout",
     "text": [
      "v1:\n",
      " [2 5]\n",
      "v2:\n",
      " [3 2]\n",
      "v1v2:\n",
      " [ 7 12]\n"
     ]
    }
   ],
   "metadata": {}
  },
  {
   "cell_type": "markdown",
   "source": [
    "Ahora se gráfica los vectores"
   ],
   "metadata": {}
  },
  {
   "cell_type": "code",
   "execution_count": 8,
   "source": [
    "graficarVectores([v1, v2, v1v2], ['orange', 'blue', 'red'])\n",
    "plt.xlim(-1, 8)\n",
    "plt.ylim(-1, 12)"
   ],
   "outputs": [
    {
     "output_type": "execute_result",
     "data": {
      "text/plain": [
       "(-1.0, 12.0)"
      ]
     },
     "metadata": {},
     "execution_count": 8
    },
    {
     "output_type": "display_data",
     "data": {
      "image/png": "[encoded data removed]",
      "text/plain": [
       "<Figure size 432x288 with 1 Axes>"
      ]
     },
     "metadata": {
      "needs_background": "light"
     }
    }
   ],
   "metadata": {}
  },
  {
   "cell_type": "markdown",
   "source": [
    "La combianción lineal es realizar el método del parelogramos en la grafica en donde termina v1 se suma v2, graficamente se ve como:\n",
    "\n",
    "![](../imagenes/img11.png)\n",
    "\n",
    "Se crea una serie de vectores para ver su comportamiento"
   ],
   "metadata": {}
  },
  {
   "cell_type": "code",
   "execution_count": 10,
   "source": [
    "# Se cambia el valor de los escalares\n",
    "for a in range(-10,10):\n",
    "    for b in range(-10,10):\n",
    "        plt.scatter(v1[0]*a + v2[0]*b, v1[1]*a + v2[1]*b, \n",
    "                    marker='.', color='orange')\n",
    "\n",
    "plt.xlim(-100,100)\n",
    "plt.ylim(-100,100)\n",
    "plt.axvline(x=0, color='grey')\n",
    "plt.axhline(y=0, color='grey')\n",
    "plt.show()"
   ],
   "outputs": [
    {
     "output_type": "display_data",
     "data": {
      "image/png": "[encoded data removed]",
      "text/plain": [
       "<Figure size 432x288 with 1 Axes>"
      ]
     },
     "metadata": {
      "needs_background": "light"
     }
    }
   ],
   "metadata": {}
  },
  {
   "cell_type": "markdown",
   "source": [
    "Se puede observar que con las combinaciones lineales se puede dibujar todo el espacio de r2, se puede acceder a cada punto cambiando los escalares, esta es la importancia de las combinaciones lineales"
   ],
   "metadata": {}
  }
 ],
 "metadata": {
  "orig_nbformat": 4,
  "language_info": {
   "name": "python",
   "version": "3.8.10",
   "mimetype": "text/x-python",
   "codemirror_mode": {
    "name": "ipython",
    "version": 3
   },
   "pygments_lexer": "ipython3",
   "nbconvert_exporter": "python",
   "file_extension": ".py"
  },
  "kernelspec": {
   "name": "python3",
   "display_name": "Python 3.8.10 64-bit ('venv': venv)"
  },
  "interpreter": {
   "hash": "4f20b4b42551f24f9c75692598c37c28bcfd52bab95c05c72a4a47e4107bbc7d"
  }
 },
 "nbformat": 4,
 "nbformat_minor": 2
}