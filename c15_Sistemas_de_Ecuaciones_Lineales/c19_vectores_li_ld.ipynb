{
 "cells": [
  {
   "cell_type": "markdown",
   "source": [
    "# VECTORES LINEALMENTE INDEPENDIENTES"
   ],
   "metadata": {}
  },
  {
   "cell_type": "code",
   "execution_count": 1,
   "source": [
    "%matplotlib inline\n",
    "\n",
    "import numpy as np\n",
    "import matplotlib.pyplot as plt"
   ],
   "outputs": [],
   "metadata": {}
  },
  {
   "cell_type": "markdown",
   "source": [
    "Sabiendo que\n",
    "\n",
    "$$\n",
    "Ax=b\n",
    "$$\n",
    "\n",
    "De tal forma que se tiene dos vectores,\n",
    "\n",
    "$$\n",
    "\\begin{bmatrix}\n",
    "v_{1}\\\\v_{2} \n",
    "\\end{bmatrix}\\cdot\n",
    "\\begin{bmatrix}\n",
    "x_{1}\\\\x_{2} \n",
    "\\end{bmatrix}=\n",
    "\\begin{bmatrix}\n",
    "b_{1}\\\\b_{2} \n",
    "\\end{bmatrix}\n",
    "$$\n",
    "\n",
    "La idea es buscar a b como una combinación de b1 y b2, de tal forma que se halle x1 y x2. De esta forma se ve a la matriz A como una matriz generadora, donde puede generar un espacio o un subespacio, el cuál depende de los vectores que componenen al vector A.\n",
    "\n",
    "Se pone como ejemplo el par de vectores de clases pasadas donde en un espacio r2 se genera una línea en r1"
   ],
   "metadata": {}
  },
  {
   "cell_type": "code",
   "execution_count": 2,
   "source": [
    "v1 = np.array([1,1])\n",
    "v2 = np.array([-1,-1])\n",
    "print('v1:\\n', v1)\n",
    "print('v2:\\n', v2)"
   ],
   "outputs": [
    {
     "output_type": "stream",
     "name": "stdout",
     "text": [
      "v1:\n",
      " [1 1]\n",
      "v2:\n",
      " [-1 -1]\n"
     ]
    }
   ],
   "metadata": {}
  },
  {
   "cell_type": "code",
   "execution_count": 3,
   "source": [
    "# Se generan los escalares\n",
    "for a in range(-10, 10):\n",
    "    for b in range(-10,10):\n",
    "        plt.scatter(v1[0]*a + v2[0]*b, v1[1]*a + v2[1]*b,\n",
    "                        marker='.', color='orange')\n",
    "\n",
    "# Limites del gráfico\n",
    "plt.xlim(-25,25)\n",
    "plt.ylim(-25,25)\n",
    "# Creación de los ejes coordenados \n",
    "plt.axvline(x=0, color='grey')\n",
    "plt.axhline(y=0, color='grey')\n",
    "plt.show()"
   ],
   "outputs": [
    {
     "output_type": "display_data",
     "data": {
      "image/png": "[encoded data removed]",
      "text/plain": [
       "<Figure size 432x288 with 1 Axes>"
      ]
     },
     "metadata": {
      "needs_background": "light"
     }
    }
   ],
   "metadata": {}
  },
  {
   "cell_type": "markdown",
   "source": [
    "Se observa que el par de ecuaciones, genera un subespacio en r2.\n",
    "\n",
    "Dado la matriz de ecuaciones, si se tiene un resultado b (-10,10):\n",
    "\n",
    "$$\n",
    "\\begin{bmatrix}\n",
    "1 & 1 \\\\ -1 & -1 \n",
    "\\end{bmatrix}\\cdot\n",
    "\\begin{bmatrix}\n",
    "x_{1}\\\\x_{2} \n",
    "\\end{bmatrix}=\n",
    "\\begin{bmatrix}\n",
    "-10 \\\\ 10 \n",
    "\\end{bmatrix}\n",
    "$$\n",
    "\n",
    "¿Sera que existe un x1 y x2, de tal forma que de el resultado b?\n",
    "\n",
    "Primero, hacemos una grafica para entender en donde esta ubicado el punto\n",
    "\n",
    "![](../imagenes/img12.png)\n",
    "\n",
    "Para este caso se puede observar que el punto (-10,10) esta fuera del subespacio generado por los dos vectores de A. Por tanto no existe solución o combinación lineal que permita obtener la solución a este punto.\n",
    "\n",
    "Esto sucede porque v1 es linealmente dependiente de v2, el cual se puede escribir como:"
   ],
   "metadata": {}
  },
  {
   "cell_type": "code",
   "execution_count": 6,
   "source": [
    "print('v1 Linealmente dependiente de v2:', v1 == - 1*v2)"
   ],
   "outputs": [
    {
     "output_type": "stream",
     "name": "stdout",
     "text": [
      "v1 Linealmente dependiente de v2: [ True  True]\n"
     ]
    }
   ],
   "metadata": {}
  },
  {
   "cell_type": "markdown",
   "source": [
    "Lo que sucede cuando dos vectores son linealmente dependientes, es que el espacio se reduce una dimensión menos."
   ],
   "metadata": {}
  }
 ],
 "metadata": {
  "orig_nbformat": 4,
  "language_info": {
   "name": "python",
   "version": "3.8.10",
   "mimetype": "text/x-python",
   "codemirror_mode": {
    "name": "ipython",
    "version": 3
   },
   "pygments_lexer": "ipython3",
   "nbconvert_exporter": "python",
   "file_extension": ".py"
  },
  "kernelspec": {
   "name": "python3",
   "display_name": "Python 3.8.10 64-bit ('venv': venv)"
  },
  "interpreter": {
   "hash": "4f20b4b42551f24f9c75692598c37c28bcfd52bab95c05c72a4a47e4107bbc7d"
  }
 },
 "nbformat": 4,
 "nbformat_minor": 2
}