{
 "cells": [
  {
   "cell_type": "markdown",
   "source": [
    "# TRANSPOSICIÓN, SUMA DE MATRICES Y ESCALARES"
   ],
   "metadata": {}
  },
  {
   "cell_type": "markdown",
   "source": [
    "Transponer es cambiar filas por columnas,\n",
    "\n",
    "![](./imagenes/img10.png)\n",
    "\n",
    "si por ejemplo se tiene un vector, transponer es cambairlos a un vector columna. Si se tiene una matriz de 3x2, al transponerla se convierte en una matriz de 2x3, es de anotar que la diagonal de la matriz no cambia."
   ],
   "metadata": {}
  },
  {
   "cell_type": "code",
   "execution_count": 1,
   "source": [
    "# Librerías a utilizar\n",
    "import numpy as np"
   ],
   "outputs": [],
   "metadata": {}
  },
  {
   "cell_type": "code",
   "execution_count": 10,
   "source": [
    "# Elementos a utilizar\n",
    "escalar = 5.679\n",
    "vector = np.array([3,4,5,6])\n",
    "matriz = np.array([[1,2], [3,4], [5,6]])\n",
    "tensor = np.array([\n",
    "    [[1,2,3, 30], [4,5,6, 31], [7,8,9, 32]],\n",
    "    [[11,12,13, 33], [14,15,16, 34], [17,18,19, 35]],\n",
    "    [[21,22,23, 36], [24,25,26, 37], [27,28,29, 38]]\n",
    "])"
   ],
   "outputs": [],
   "metadata": {}
  },
  {
   "cell_type": "markdown",
   "source": [
    "La transpueta en python es la función .T, sin embargo, es muy buena practica que los elementos transpuestos le agreguemos en el nombre un '_t'"
   ],
   "metadata": {}
  },
  {
   "cell_type": "code",
   "execution_count": 3,
   "source": [
    "# Transpuesta de un escalar\n",
    "escalar_t = escalar.T"
   ],
   "outputs": [
    {
     "output_type": "error",
     "ename": "AttributeError",
     "evalue": "'float' object has no attribute 'T'",
     "traceback": [
      "\u001b[0;31m---------------------------------------------------------------------------\u001b[0m",
      "\u001b[0;31mAttributeError\u001b[0m                            Traceback (most recent call last)",
      "\u001b[0;32m/tmp/ipykernel_3737/1740266579.py\u001b[0m in \u001b[0;36m<module>\u001b[0;34m\u001b[0m\n\u001b[1;32m      1\u001b[0m \u001b[0;31m# Transpuesta de un escalar\u001b[0m\u001b[0;34m\u001b[0m\u001b[0;34m\u001b[0m\u001b[0;34m\u001b[0m\u001b[0m\n\u001b[0;32m----> 2\u001b[0;31m \u001b[0mescalar_t\u001b[0m \u001b[0;34m=\u001b[0m \u001b[0mescalar\u001b[0m\u001b[0;34m.\u001b[0m\u001b[0mT\u001b[0m\u001b[0;34m\u001b[0m\u001b[0;34m\u001b[0m\u001b[0m\n\u001b[0m",
      "\u001b[0;31mAttributeError\u001b[0m: 'float' object has no attribute 'T'"
     ]
    }
   ],
   "metadata": {}
  },
  {
   "cell_type": "markdown",
   "source": [
    "Tiene sentido que un escalar arroje error al realizar la transpuesta, ya que no tiene ni filas ni columnas"
   ],
   "metadata": {}
  },
  {
   "cell_type": "code",
   "execution_count": 4,
   "source": [
    "vector_t = vector.T\n",
    "print(vector_t)"
   ],
   "outputs": [
    {
     "output_type": "stream",
     "name": "stdout",
     "text": [
      "[3 4 5 6]\n"
     ]
    }
   ],
   "metadata": {}
  },
  {
   "cell_type": "markdown",
   "source": [
    "Para vectores no se va a notar la tranpuesta, siempre va a arrojar el mismo resultado."
   ],
   "metadata": {}
  },
  {
   "cell_type": "code",
   "execution_count": 6,
   "source": [
    "matriz_t = matriz.T\n",
    "print('matriz: ', matriz)\n",
    "print('matriz_t: ', matriz_t)"
   ],
   "outputs": [
    {
     "output_type": "stream",
     "name": "stdout",
     "text": [
      "matriz:  [[1 2]\n",
      " [3 4]\n",
      " [5 6]]\n",
      "matriz_t:  [[1 3 5]\n",
      " [2 4 6]]\n"
     ]
    }
   ],
   "metadata": {}
  },
  {
   "cell_type": "markdown",
   "source": [
    "Se puede observar como se realizo la transpuesta de la matriz, ahora se halla sus dimensiones"
   ],
   "metadata": {}
  },
  {
   "cell_type": "code",
   "execution_count": 7,
   "source": [
    "print('matriz shape: ', matriz.shape)\n",
    "print('matriz_t shape: ', matriz_t.shape)"
   ],
   "outputs": [
    {
     "output_type": "stream",
     "name": "stdout",
     "text": [
      "matriz shape:  (3, 2)\n",
      "matriz_t shape:  (2, 3)\n"
     ]
    }
   ],
   "metadata": {}
  },
  {
   "cell_type": "markdown",
   "source": [
    "Se ve como cambia de una dimension 3x2 a una 2x3. "
   ],
   "metadata": {}
  },
  {
   "cell_type": "code",
   "execution_count": 11,
   "source": [
    "tensor_t = tensor.T\n",
    "print('tensor: ', tensor)\n",
    "print('tensor_t: ', tensor_t)"
   ],
   "outputs": [
    {
     "output_type": "stream",
     "name": "stdout",
     "text": [
      "tensor:  [[[ 1  2  3 30]\n",
      "  [ 4  5  6 31]\n",
      "  [ 7  8  9 32]]\n",
      "\n",
      " [[11 12 13 33]\n",
      "  [14 15 16 34]\n",
      "  [17 18 19 35]]\n",
      "\n",
      " [[21 22 23 36]\n",
      "  [24 25 26 37]\n",
      "  [27 28 29 38]]]\n",
      "tensor_t:  [[[ 1 11 21]\n",
      "  [ 4 14 24]\n",
      "  [ 7 17 27]]\n",
      "\n",
      " [[ 2 12 22]\n",
      "  [ 5 15 25]\n",
      "  [ 8 18 28]]\n",
      "\n",
      " [[ 3 13 23]\n",
      "  [ 6 16 26]\n",
      "  [ 9 19 29]]\n",
      "\n",
      " [[30 33 36]\n",
      "  [31 34 37]\n",
      "  [32 35 38]]]\n"
     ]
    }
   ],
   "metadata": {}
  },
  {
   "cell_type": "markdown",
   "source": [
    "En el caso del tensor, se paso de tres matrices de 4x3 a cuatro matrices de 3x3.\n",
    "\n",
    "Una regla de las matrices es que la transpuest de una matriz transpuesta en la misma matriz, es decir:\n",
    "\n",
    "$$ (A^{t})^{t}=A $$"
   ],
   "metadata": {}
  },
  {
   "cell_type": "code",
   "execution_count": 13,
   "source": [
    "matriz_t_t = matriz_t.T\n",
    "print('matriz: ', matriz)\n",
    "print('matriz_t_t: ', matriz_t_t)"
   ],
   "outputs": [
    {
     "output_type": "stream",
     "name": "stdout",
     "text": [
      "matriz:  [[1 2]\n",
      " [3 4]\n",
      " [5 6]]\n",
      "matriz_t_t:  [[1 2]\n",
      " [3 4]\n",
      " [5 6]]\n"
     ]
    }
   ],
   "metadata": {}
  },
  {
   "cell_type": "markdown",
   "source": [
    "Se puede observar que efectivamente es la misma matriz, la transpuesta es mucha utilidad cuando se desea resolver problemas matriciales con n incognitas, que junto con otras operaciones nos ayuda a solucionar estos problemas."
   ],
   "metadata": {}
  },
  {
   "cell_type": "markdown",
   "source": [
    "En la suma de matrices los elementos que se suma son los que tiene la misma posición en filas y columnas, es decir:\n",
    "\n",
    "$$\n",
    "\\begin{bmatrix}\n",
    " a_{11}&a_{12}\\\\ \n",
    " a_{21}&a_{22} \n",
    "\\end{bmatrix}+\\begin{bmatrix}\n",
    " b_{11}&b_{12}\\\\ \n",
    " b_{21}&b_{22} \n",
    "\\end{bmatrix}=\\begin{bmatrix}\n",
    " a_{11}+b_{11}&a_{12}+b_{12}\\\\ \n",
    " a_{21}+b_{21}&a_{22}+b_{22} \n",
    "\\end{bmatrix}\n",
    "$$\n",
    "\n",
    "Donde tanto la matriz A como la matriz B deben tener las mismas dimensiones."
   ],
   "metadata": {}
  },
  {
   "cell_type": "code",
   "execution_count": 14,
   "source": [
    "A = np.array([[1,2],[3,4],[5,6]])\n",
    "B = np.array([[6,5], [4,3], [2,1]])\n",
    "C = A + B\n",
    "print('A:', A)\n",
    "print('B:', B)\n",
    "print('C:', C)"
   ],
   "outputs": [
    {
     "output_type": "stream",
     "name": "stdout",
     "text": [
      "A: [[1 2]\n",
      " [3 4]\n",
      " [5 6]]\n",
      "B: [[6 5]\n",
      " [4 3]\n",
      " [2 1]]\n",
      "C: [[7 7]\n",
      " [7 7]\n",
      " [7 7]]\n"
     ]
    }
   ],
   "metadata": {}
  },
  {
   "cell_type": "markdown",
   "source": [
    "Se observa que efectivamente la suma es como se definio en la ecuación, ahora se prueba la suma entre una matriz y un escalar."
   ],
   "metadata": {}
  },
  {
   "cell_type": "code",
   "execution_count": 15,
   "source": [
    "D = matriz + escalar\n",
    "print('matriz: ', matriz)\n",
    "print('escalar: ', escalar)\n",
    "print('matriz + escalar: ', D)"
   ],
   "outputs": [
    {
     "output_type": "stream",
     "name": "stdout",
     "text": [
      "matriz:  [[1 2]\n",
      " [3 4]\n",
      " [5 6]]\n",
      "escalar:  5.679\n",
      "matriz + escalar:  [[ 6.679  7.679]\n",
      " [ 8.679  9.679]\n",
      " [10.679 11.679]]\n"
     ]
    }
   ],
   "metadata": {}
  },
  {
   "cell_type": "markdown",
   "source": [
    "El escalar suma a cada uno de los elementos del escalar\n",
    "\n",
    "$$\n",
    "\\begin{bmatrix}\n",
    " a_{11}&a_{12}\\\\ \n",
    " a_{21}&a_{22} \n",
    "\\end{bmatrix}+\\alpha =\\begin{bmatrix}\n",
    " a_{11}+\\alpha&a_{12}+\\alpha\\\\ \n",
    " a_{21}+\\alpha&a_{22}+\\alpha \n",
    "\\end{bmatrix}\n",
    "$$"
   ],
   "metadata": {}
  }
 ],
 "metadata": {
  "orig_nbformat": 4,
  "language_info": {
   "name": "python",
   "version": "3.8.10",
   "mimetype": "text/x-python",
   "codemirror_mode": {
    "name": "ipython",
    "version": 3
   },
   "pygments_lexer": "ipython3",
   "nbconvert_exporter": "python",
   "file_extension": ".py"
  },
  "kernelspec": {
   "name": "python3",
   "display_name": "Python 3.8.10 64-bit ('venv': venv)"
  },
  "interpreter": {
   "hash": "4f20b4b42551f24f9c75692598c37c28bcfd52bab95c05c72a4a47e4107bbc7d"
  }
 },
 "nbformat": 4,
 "nbformat_minor": 2
}