{
 "cells": [
  {
   "cell_type": "code",
   "execution_count": null,
   "source": [
    "# Función para graficar los vectores, con los parametros vecs que\n",
    "# son los vectores, cols que son los colores y alpha que es la \n",
    "# transparencia\n",
    "def graficarVectores(vecs, cols, alpha=1):\n",
    "    plt.figure()\n",
    "    # Se dibija los ejes, zorder es la posición z\n",
    "    plt.axvline(x=0, color='grey', zorder=0)\n",
    "    plt.axhline(y=0, color='grey', zorder=0)\n",
    "\n",
    "    # vectores a dibujar\n",
    "    for i in range(len(vecs)):\n",
    "        # Se concatena todos los vectores, note que un vector comienza\n",
    "        # en el origen (0,0) y por tanto se agrega primero este y \n",
    "        # el valor del vector\n",
    "        x = np.concatenate([[0,0], vecs[i]])\n",
    "        plt.quiver([x[0]], [x[1]], [x[2]], [x[3]], angles='xy', \n",
    "                   scale_units='xy', scale=1, color=cols[i],alpha=alpha)"
   ],
   "outputs": [],
   "metadata": {}
  }
 ],
 "metadata": {
  "orig_nbformat": 4,
  "language_info": {
   "name": "python"
  }
 },
 "nbformat": 4,
 "nbformat_minor": 2
}